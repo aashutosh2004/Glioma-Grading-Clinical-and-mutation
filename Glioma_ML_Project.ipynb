{
  "nbformat": 4,
  "nbformat_minor": 0,
  "metadata": {
    "colab": {
      "provenance": []
    },
    "kernelspec": {
      "name": "python3",
      "display_name": "Python 3"
    },
    "language_info": {
      "name": "python"
    }
  },
  "cells": [
    {
      "cell_type": "code",
      "execution_count": null,
      "metadata": {
        "id": "N-YWOpNXDK3Z"
      },
      "outputs": [],
      "source": [
        "import numpy as np\n",
        "import pandas as pd"
      ]
    },
    {
      "cell_type": "code",
      "source": [
        "dataset=pd.read_csv(\"/content/TCGA_GBM_LGG_Mutations_all.csv\")"
      ],
      "metadata": {
        "id": "CLi-x7BtDghO"
      },
      "execution_count": null,
      "outputs": []
    },
    {
      "cell_type": "code",
      "source": [
        "dataset.head()"
      ],
      "metadata": {
        "colab": {
          "base_uri": "https://localhost:8080/",
          "height": 429
        },
        "id": "uwiyIYHnDoB-",
        "outputId": "9f6fe4cd-f40e-48bf-c4a7-233fde83e619"
      },
      "execution_count": null,
      "outputs": [
        {
          "output_type": "execute_result",
          "data": {
            "text/plain": [
              "  Grade   Project       Case_ID  Gender   Age_at_diagnosis  \\\n",
              "0   LGG  TCGA-LGG  TCGA-DU-8164    Male  51 years 108 days   \n",
              "1   LGG  TCGA-LGG  TCGA-QH-A6CY    Male  38 years 261 days   \n",
              "2   LGG  TCGA-LGG  TCGA-HW-A5KM    Male   35 years 62 days   \n",
              "3   LGG  TCGA-LGG  TCGA-E1-A7YE  Female  32 years 283 days   \n",
              "4   LGG  TCGA-LGG  TCGA-S9-A6WG    Male  31 years 187 days   \n",
              "\n",
              "         Primary_Diagnosis   Race     IDH1         TP53         ATRX  ...  \\\n",
              "0   Oligodendroglioma, NOS  white  MUTATED  NOT_MUTATED  NOT_MUTATED  ...   \n",
              "1             Mixed glioma  white  MUTATED  NOT_MUTATED  NOT_MUTATED  ...   \n",
              "2         Astrocytoma, NOS  white  MUTATED      MUTATED      MUTATED  ...   \n",
              "3  Astrocytoma, anaplastic  white  MUTATED      MUTATED      MUTATED  ...   \n",
              "4  Astrocytoma, anaplastic  white  MUTATED      MUTATED      MUTATED  ...   \n",
              "\n",
              "         FUBP1          RB1       NOTCH1         BCOR        CSMD3  \\\n",
              "0      MUTATED  NOT_MUTATED  NOT_MUTATED  NOT_MUTATED  NOT_MUTATED   \n",
              "1  NOT_MUTATED  NOT_MUTATED  NOT_MUTATED  NOT_MUTATED  NOT_MUTATED   \n",
              "2  NOT_MUTATED  NOT_MUTATED  NOT_MUTATED  NOT_MUTATED  NOT_MUTATED   \n",
              "3  NOT_MUTATED  NOT_MUTATED  NOT_MUTATED  NOT_MUTATED  NOT_MUTATED   \n",
              "4  NOT_MUTATED  NOT_MUTATED  NOT_MUTATED  NOT_MUTATED  NOT_MUTATED   \n",
              "\n",
              "       SMARCA4       GRIN2A         IDH2         FAT4       PDGFRA  \n",
              "0  NOT_MUTATED  NOT_MUTATED  NOT_MUTATED  NOT_MUTATED  NOT_MUTATED  \n",
              "1  NOT_MUTATED  NOT_MUTATED  NOT_MUTATED  NOT_MUTATED  NOT_MUTATED  \n",
              "2  NOT_MUTATED  NOT_MUTATED  NOT_MUTATED  NOT_MUTATED  NOT_MUTATED  \n",
              "3  NOT_MUTATED  NOT_MUTATED  NOT_MUTATED      MUTATED  NOT_MUTATED  \n",
              "4  NOT_MUTATED  NOT_MUTATED  NOT_MUTATED  NOT_MUTATED  NOT_MUTATED  \n",
              "\n",
              "[5 rows x 27 columns]"
            ],
            "text/html": [
              "\n",
              "  <div id=\"df-74fb9d93-42f1-49c8-824a-d21df3bf1ca3\" class=\"colab-df-container\">\n",
              "    <div>\n",
              "<style scoped>\n",
              "    .dataframe tbody tr th:only-of-type {\n",
              "        vertical-align: middle;\n",
              "    }\n",
              "\n",
              "    .dataframe tbody tr th {\n",
              "        vertical-align: top;\n",
              "    }\n",
              "\n",
              "    .dataframe thead th {\n",
              "        text-align: right;\n",
              "    }\n",
              "</style>\n",
              "<table border=\"1\" class=\"dataframe\">\n",
              "  <thead>\n",
              "    <tr style=\"text-align: right;\">\n",
              "      <th></th>\n",
              "      <th>Grade</th>\n",
              "      <th>Project</th>\n",
              "      <th>Case_ID</th>\n",
              "      <th>Gender</th>\n",
              "      <th>Age_at_diagnosis</th>\n",
              "      <th>Primary_Diagnosis</th>\n",
              "      <th>Race</th>\n",
              "      <th>IDH1</th>\n",
              "      <th>TP53</th>\n",
              "      <th>ATRX</th>\n",
              "      <th>...</th>\n",
              "      <th>FUBP1</th>\n",
              "      <th>RB1</th>\n",
              "      <th>NOTCH1</th>\n",
              "      <th>BCOR</th>\n",
              "      <th>CSMD3</th>\n",
              "      <th>SMARCA4</th>\n",
              "      <th>GRIN2A</th>\n",
              "      <th>IDH2</th>\n",
              "      <th>FAT4</th>\n",
              "      <th>PDGFRA</th>\n",
              "    </tr>\n",
              "  </thead>\n",
              "  <tbody>\n",
              "    <tr>\n",
              "      <th>0</th>\n",
              "      <td>LGG</td>\n",
              "      <td>TCGA-LGG</td>\n",
              "      <td>TCGA-DU-8164</td>\n",
              "      <td>Male</td>\n",
              "      <td>51 years 108 days</td>\n",
              "      <td>Oligodendroglioma, NOS</td>\n",
              "      <td>white</td>\n",
              "      <td>MUTATED</td>\n",
              "      <td>NOT_MUTATED</td>\n",
              "      <td>NOT_MUTATED</td>\n",
              "      <td>...</td>\n",
              "      <td>MUTATED</td>\n",
              "      <td>NOT_MUTATED</td>\n",
              "      <td>NOT_MUTATED</td>\n",
              "      <td>NOT_MUTATED</td>\n",
              "      <td>NOT_MUTATED</td>\n",
              "      <td>NOT_MUTATED</td>\n",
              "      <td>NOT_MUTATED</td>\n",
              "      <td>NOT_MUTATED</td>\n",
              "      <td>NOT_MUTATED</td>\n",
              "      <td>NOT_MUTATED</td>\n",
              "    </tr>\n",
              "    <tr>\n",
              "      <th>1</th>\n",
              "      <td>LGG</td>\n",
              "      <td>TCGA-LGG</td>\n",
              "      <td>TCGA-QH-A6CY</td>\n",
              "      <td>Male</td>\n",
              "      <td>38 years 261 days</td>\n",
              "      <td>Mixed glioma</td>\n",
              "      <td>white</td>\n",
              "      <td>MUTATED</td>\n",
              "      <td>NOT_MUTATED</td>\n",
              "      <td>NOT_MUTATED</td>\n",
              "      <td>...</td>\n",
              "      <td>NOT_MUTATED</td>\n",
              "      <td>NOT_MUTATED</td>\n",
              "      <td>NOT_MUTATED</td>\n",
              "      <td>NOT_MUTATED</td>\n",
              "      <td>NOT_MUTATED</td>\n",
              "      <td>NOT_MUTATED</td>\n",
              "      <td>NOT_MUTATED</td>\n",
              "      <td>NOT_MUTATED</td>\n",
              "      <td>NOT_MUTATED</td>\n",
              "      <td>NOT_MUTATED</td>\n",
              "    </tr>\n",
              "    <tr>\n",
              "      <th>2</th>\n",
              "      <td>LGG</td>\n",
              "      <td>TCGA-LGG</td>\n",
              "      <td>TCGA-HW-A5KM</td>\n",
              "      <td>Male</td>\n",
              "      <td>35 years 62 days</td>\n",
              "      <td>Astrocytoma, NOS</td>\n",
              "      <td>white</td>\n",
              "      <td>MUTATED</td>\n",
              "      <td>MUTATED</td>\n",
              "      <td>MUTATED</td>\n",
              "      <td>...</td>\n",
              "      <td>NOT_MUTATED</td>\n",
              "      <td>NOT_MUTATED</td>\n",
              "      <td>NOT_MUTATED</td>\n",
              "      <td>NOT_MUTATED</td>\n",
              "      <td>NOT_MUTATED</td>\n",
              "      <td>NOT_MUTATED</td>\n",
              "      <td>NOT_MUTATED</td>\n",
              "      <td>NOT_MUTATED</td>\n",
              "      <td>NOT_MUTATED</td>\n",
              "      <td>NOT_MUTATED</td>\n",
              "    </tr>\n",
              "    <tr>\n",
              "      <th>3</th>\n",
              "      <td>LGG</td>\n",
              "      <td>TCGA-LGG</td>\n",
              "      <td>TCGA-E1-A7YE</td>\n",
              "      <td>Female</td>\n",
              "      <td>32 years 283 days</td>\n",
              "      <td>Astrocytoma, anaplastic</td>\n",
              "      <td>white</td>\n",
              "      <td>MUTATED</td>\n",
              "      <td>MUTATED</td>\n",
              "      <td>MUTATED</td>\n",
              "      <td>...</td>\n",
              "      <td>NOT_MUTATED</td>\n",
              "      <td>NOT_MUTATED</td>\n",
              "      <td>NOT_MUTATED</td>\n",
              "      <td>NOT_MUTATED</td>\n",
              "      <td>NOT_MUTATED</td>\n",
              "      <td>NOT_MUTATED</td>\n",
              "      <td>NOT_MUTATED</td>\n",
              "      <td>NOT_MUTATED</td>\n",
              "      <td>MUTATED</td>\n",
              "      <td>NOT_MUTATED</td>\n",
              "    </tr>\n",
              "    <tr>\n",
              "      <th>4</th>\n",
              "      <td>LGG</td>\n",
              "      <td>TCGA-LGG</td>\n",
              "      <td>TCGA-S9-A6WG</td>\n",
              "      <td>Male</td>\n",
              "      <td>31 years 187 days</td>\n",
              "      <td>Astrocytoma, anaplastic</td>\n",
              "      <td>white</td>\n",
              "      <td>MUTATED</td>\n",
              "      <td>MUTATED</td>\n",
              "      <td>MUTATED</td>\n",
              "      <td>...</td>\n",
              "      <td>NOT_MUTATED</td>\n",
              "      <td>NOT_MUTATED</td>\n",
              "      <td>NOT_MUTATED</td>\n",
              "      <td>NOT_MUTATED</td>\n",
              "      <td>NOT_MUTATED</td>\n",
              "      <td>NOT_MUTATED</td>\n",
              "      <td>NOT_MUTATED</td>\n",
              "      <td>NOT_MUTATED</td>\n",
              "      <td>NOT_MUTATED</td>\n",
              "      <td>NOT_MUTATED</td>\n",
              "    </tr>\n",
              "  </tbody>\n",
              "</table>\n",
              "<p>5 rows × 27 columns</p>\n",
              "</div>\n",
              "    <div class=\"colab-df-buttons\">\n",
              "\n",
              "  <div class=\"colab-df-container\">\n",
              "    <button class=\"colab-df-convert\" onclick=\"convertToInteractive('df-74fb9d93-42f1-49c8-824a-d21df3bf1ca3')\"\n",
              "            title=\"Convert this dataframe to an interactive table.\"\n",
              "            style=\"display:none;\">\n",
              "\n",
              "  <svg xmlns=\"http://www.w3.org/2000/svg\" height=\"24px\" viewBox=\"0 -960 960 960\">\n",
              "    <path d=\"M120-120v-720h720v720H120Zm60-500h600v-160H180v160Zm220 220h160v-160H400v160Zm0 220h160v-160H400v160ZM180-400h160v-160H180v160Zm440 0h160v-160H620v160ZM180-180h160v-160H180v160Zm440 0h160v-160H620v160Z\"/>\n",
              "  </svg>\n",
              "    </button>\n",
              "\n",
              "  <style>\n",
              "    .colab-df-container {\n",
              "      display:flex;\n",
              "      gap: 12px;\n",
              "    }\n",
              "\n",
              "    .colab-df-convert {\n",
              "      background-color: #E8F0FE;\n",
              "      border: none;\n",
              "      border-radius: 50%;\n",
              "      cursor: pointer;\n",
              "      display: none;\n",
              "      fill: #1967D2;\n",
              "      height: 32px;\n",
              "      padding: 0 0 0 0;\n",
              "      width: 32px;\n",
              "    }\n",
              "\n",
              "    .colab-df-convert:hover {\n",
              "      background-color: #E2EBFA;\n",
              "      box-shadow: 0px 1px 2px rgba(60, 64, 67, 0.3), 0px 1px 3px 1px rgba(60, 64, 67, 0.15);\n",
              "      fill: #174EA6;\n",
              "    }\n",
              "\n",
              "    .colab-df-buttons div {\n",
              "      margin-bottom: 4px;\n",
              "    }\n",
              "\n",
              "    [theme=dark] .colab-df-convert {\n",
              "      background-color: #3B4455;\n",
              "      fill: #D2E3FC;\n",
              "    }\n",
              "\n",
              "    [theme=dark] .colab-df-convert:hover {\n",
              "      background-color: #434B5C;\n",
              "      box-shadow: 0px 1px 3px 1px rgba(0, 0, 0, 0.15);\n",
              "      filter: drop-shadow(0px 1px 2px rgba(0, 0, 0, 0.3));\n",
              "      fill: #FFFFFF;\n",
              "    }\n",
              "  </style>\n",
              "\n",
              "    <script>\n",
              "      const buttonEl =\n",
              "        document.querySelector('#df-74fb9d93-42f1-49c8-824a-d21df3bf1ca3 button.colab-df-convert');\n",
              "      buttonEl.style.display =\n",
              "        google.colab.kernel.accessAllowed ? 'block' : 'none';\n",
              "\n",
              "      async function convertToInteractive(key) {\n",
              "        const element = document.querySelector('#df-74fb9d93-42f1-49c8-824a-d21df3bf1ca3');\n",
              "        const dataTable =\n",
              "          await google.colab.kernel.invokeFunction('convertToInteractive',\n",
              "                                                    [key], {});\n",
              "        if (!dataTable) return;\n",
              "\n",
              "        const docLinkHtml = 'Like what you see? Visit the ' +\n",
              "          '<a target=\"_blank\" href=https://colab.research.google.com/notebooks/data_table.ipynb>data table notebook</a>'\n",
              "          + ' to learn more about interactive tables.';\n",
              "        element.innerHTML = '';\n",
              "        dataTable['output_type'] = 'display_data';\n",
              "        await google.colab.output.renderOutput(dataTable, element);\n",
              "        const docLink = document.createElement('div');\n",
              "        docLink.innerHTML = docLinkHtml;\n",
              "        element.appendChild(docLink);\n",
              "      }\n",
              "    </script>\n",
              "  </div>\n",
              "\n",
              "\n",
              "<div id=\"df-676989a7-a0f5-40e5-bc4c-13924feb6366\">\n",
              "  <button class=\"colab-df-quickchart\" onclick=\"quickchart('df-676989a7-a0f5-40e5-bc4c-13924feb6366')\"\n",
              "            title=\"Suggest charts\"\n",
              "            style=\"display:none;\">\n",
              "\n",
              "<svg xmlns=\"http://www.w3.org/2000/svg\" height=\"24px\"viewBox=\"0 0 24 24\"\n",
              "     width=\"24px\">\n",
              "    <g>\n",
              "        <path d=\"M19 3H5c-1.1 0-2 .9-2 2v14c0 1.1.9 2 2 2h14c1.1 0 2-.9 2-2V5c0-1.1-.9-2-2-2zM9 17H7v-7h2v7zm4 0h-2V7h2v10zm4 0h-2v-4h2v4z\"/>\n",
              "    </g>\n",
              "</svg>\n",
              "  </button>\n",
              "\n",
              "<style>\n",
              "  .colab-df-quickchart {\n",
              "      --bg-color: #E8F0FE;\n",
              "      --fill-color: #1967D2;\n",
              "      --hover-bg-color: #E2EBFA;\n",
              "      --hover-fill-color: #174EA6;\n",
              "      --disabled-fill-color: #AAA;\n",
              "      --disabled-bg-color: #DDD;\n",
              "  }\n",
              "\n",
              "  [theme=dark] .colab-df-quickchart {\n",
              "      --bg-color: #3B4455;\n",
              "      --fill-color: #D2E3FC;\n",
              "      --hover-bg-color: #434B5C;\n",
              "      --hover-fill-color: #FFFFFF;\n",
              "      --disabled-bg-color: #3B4455;\n",
              "      --disabled-fill-color: #666;\n",
              "  }\n",
              "\n",
              "  .colab-df-quickchart {\n",
              "    background-color: var(--bg-color);\n",
              "    border: none;\n",
              "    border-radius: 50%;\n",
              "    cursor: pointer;\n",
              "    display: none;\n",
              "    fill: var(--fill-color);\n",
              "    height: 32px;\n",
              "    padding: 0;\n",
              "    width: 32px;\n",
              "  }\n",
              "\n",
              "  .colab-df-quickchart:hover {\n",
              "    background-color: var(--hover-bg-color);\n",
              "    box-shadow: 0 1px 2px rgba(60, 64, 67, 0.3), 0 1px 3px 1px rgba(60, 64, 67, 0.15);\n",
              "    fill: var(--button-hover-fill-color);\n",
              "  }\n",
              "\n",
              "  .colab-df-quickchart-complete:disabled,\n",
              "  .colab-df-quickchart-complete:disabled:hover {\n",
              "    background-color: var(--disabled-bg-color);\n",
              "    fill: var(--disabled-fill-color);\n",
              "    box-shadow: none;\n",
              "  }\n",
              "\n",
              "  .colab-df-spinner {\n",
              "    border: 2px solid var(--fill-color);\n",
              "    border-color: transparent;\n",
              "    border-bottom-color: var(--fill-color);\n",
              "    animation:\n",
              "      spin 1s steps(1) infinite;\n",
              "  }\n",
              "\n",
              "  @keyframes spin {\n",
              "    0% {\n",
              "      border-color: transparent;\n",
              "      border-bottom-color: var(--fill-color);\n",
              "      border-left-color: var(--fill-color);\n",
              "    }\n",
              "    20% {\n",
              "      border-color: transparent;\n",
              "      border-left-color: var(--fill-color);\n",
              "      border-top-color: var(--fill-color);\n",
              "    }\n",
              "    30% {\n",
              "      border-color: transparent;\n",
              "      border-left-color: var(--fill-color);\n",
              "      border-top-color: var(--fill-color);\n",
              "      border-right-color: var(--fill-color);\n",
              "    }\n",
              "    40% {\n",
              "      border-color: transparent;\n",
              "      border-right-color: var(--fill-color);\n",
              "      border-top-color: var(--fill-color);\n",
              "    }\n",
              "    60% {\n",
              "      border-color: transparent;\n",
              "      border-right-color: var(--fill-color);\n",
              "    }\n",
              "    80% {\n",
              "      border-color: transparent;\n",
              "      border-right-color: var(--fill-color);\n",
              "      border-bottom-color: var(--fill-color);\n",
              "    }\n",
              "    90% {\n",
              "      border-color: transparent;\n",
              "      border-bottom-color: var(--fill-color);\n",
              "    }\n",
              "  }\n",
              "</style>\n",
              "\n",
              "  <script>\n",
              "    async function quickchart(key) {\n",
              "      const quickchartButtonEl =\n",
              "        document.querySelector('#' + key + ' button');\n",
              "      quickchartButtonEl.disabled = true;  // To prevent multiple clicks.\n",
              "      quickchartButtonEl.classList.add('colab-df-spinner');\n",
              "      try {\n",
              "        const charts = await google.colab.kernel.invokeFunction(\n",
              "            'suggestCharts', [key], {});\n",
              "      } catch (error) {\n",
              "        console.error('Error during call to suggestCharts:', error);\n",
              "      }\n",
              "      quickchartButtonEl.classList.remove('colab-df-spinner');\n",
              "      quickchartButtonEl.classList.add('colab-df-quickchart-complete');\n",
              "    }\n",
              "    (() => {\n",
              "      let quickchartButtonEl =\n",
              "        document.querySelector('#df-676989a7-a0f5-40e5-bc4c-13924feb6366 button');\n",
              "      quickchartButtonEl.style.display =\n",
              "        google.colab.kernel.accessAllowed ? 'block' : 'none';\n",
              "    })();\n",
              "  </script>\n",
              "</div>\n",
              "\n",
              "    </div>\n",
              "  </div>\n"
            ],
            "application/vnd.google.colaboratory.intrinsic+json": {
              "type": "dataframe",
              "variable_name": "dataset"
            }
          },
          "metadata": {},
          "execution_count": 4
        }
      ]
    },
    {
      "cell_type": "code",
      "source": [
        "dataset.tail()"
      ],
      "metadata": {
        "colab": {
          "base_uri": "https://localhost:8080/",
          "height": 359
        },
        "id": "nBqG_F4PDp2Y",
        "outputId": "9e7dbee0-a54e-4d1c-d152-8a00402df6cb"
      },
      "execution_count": null,
      "outputs": [
        {
          "output_type": "execute_result",
          "data": {
            "text/plain": [
              "    Grade   Project       Case_ID  Gender   Age_at_diagnosis  \\\n",
              "857   GBM  TCGA-GBM  TCGA-19-5959  Female  77 years 325 days   \n",
              "858   GBM  TCGA-GBM  TCGA-16-0846    Male   85 years 65 days   \n",
              "859   GBM  TCGA-GBM  TCGA-28-1746  Female  77 years 178 days   \n",
              "860   GBM  TCGA-GBM  TCGA-32-2491    Male  63 years 121 days   \n",
              "861   GBM  TCGA-GBM  TCGA-06-2557    Male  76 years 221 days   \n",
              "\n",
              "    Primary_Diagnosis                       Race         IDH1         TP53  \\\n",
              "857      Glioblastoma                      white  NOT_MUTATED  NOT_MUTATED   \n",
              "858      Glioblastoma                      white  NOT_MUTATED      MUTATED   \n",
              "859      Glioblastoma                      white  NOT_MUTATED      MUTATED   \n",
              "860      Glioblastoma                      white  NOT_MUTATED      MUTATED   \n",
              "861      Glioblastoma  black or african american  NOT_MUTATED  NOT_MUTATED   \n",
              "\n",
              "            ATRX  ...        FUBP1          RB1       NOTCH1         BCOR  \\\n",
              "857  NOT_MUTATED  ...  NOT_MUTATED  NOT_MUTATED  NOT_MUTATED  NOT_MUTATED   \n",
              "858  NOT_MUTATED  ...  NOT_MUTATED  NOT_MUTATED  NOT_MUTATED  NOT_MUTATED   \n",
              "859  NOT_MUTATED  ...  NOT_MUTATED  NOT_MUTATED  NOT_MUTATED  NOT_MUTATED   \n",
              "860  NOT_MUTATED  ...  NOT_MUTATED      MUTATED  NOT_MUTATED  NOT_MUTATED   \n",
              "861  NOT_MUTATED  ...  NOT_MUTATED  NOT_MUTATED  NOT_MUTATED  NOT_MUTATED   \n",
              "\n",
              "           CSMD3      SMARCA4       GRIN2A         IDH2         FAT4  \\\n",
              "857  NOT_MUTATED  NOT_MUTATED  NOT_MUTATED  NOT_MUTATED  NOT_MUTATED   \n",
              "858  NOT_MUTATED  NOT_MUTATED  NOT_MUTATED  NOT_MUTATED  NOT_MUTATED   \n",
              "859  NOT_MUTATED  NOT_MUTATED  NOT_MUTATED  NOT_MUTATED  NOT_MUTATED   \n",
              "860  NOT_MUTATED  NOT_MUTATED  NOT_MUTATED  NOT_MUTATED  NOT_MUTATED   \n",
              "861  NOT_MUTATED  NOT_MUTATED  NOT_MUTATED  NOT_MUTATED  NOT_MUTATED   \n",
              "\n",
              "          PDGFRA  \n",
              "857  NOT_MUTATED  \n",
              "858  NOT_MUTATED  \n",
              "859  NOT_MUTATED  \n",
              "860  NOT_MUTATED  \n",
              "861  NOT_MUTATED  \n",
              "\n",
              "[5 rows x 27 columns]"
            ],
            "text/html": [
              "\n",
              "  <div id=\"df-2addac18-15b4-44a4-8393-1fd17afad65f\" class=\"colab-df-container\">\n",
              "    <div>\n",
              "<style scoped>\n",
              "    .dataframe tbody tr th:only-of-type {\n",
              "        vertical-align: middle;\n",
              "    }\n",
              "\n",
              "    .dataframe tbody tr th {\n",
              "        vertical-align: top;\n",
              "    }\n",
              "\n",
              "    .dataframe thead th {\n",
              "        text-align: right;\n",
              "    }\n",
              "</style>\n",
              "<table border=\"1\" class=\"dataframe\">\n",
              "  <thead>\n",
              "    <tr style=\"text-align: right;\">\n",
              "      <th></th>\n",
              "      <th>Grade</th>\n",
              "      <th>Project</th>\n",
              "      <th>Case_ID</th>\n",
              "      <th>Gender</th>\n",
              "      <th>Age_at_diagnosis</th>\n",
              "      <th>Primary_Diagnosis</th>\n",
              "      <th>Race</th>\n",
              "      <th>IDH1</th>\n",
              "      <th>TP53</th>\n",
              "      <th>ATRX</th>\n",
              "      <th>...</th>\n",
              "      <th>FUBP1</th>\n",
              "      <th>RB1</th>\n",
              "      <th>NOTCH1</th>\n",
              "      <th>BCOR</th>\n",
              "      <th>CSMD3</th>\n",
              "      <th>SMARCA4</th>\n",
              "      <th>GRIN2A</th>\n",
              "      <th>IDH2</th>\n",
              "      <th>FAT4</th>\n",
              "      <th>PDGFRA</th>\n",
              "    </tr>\n",
              "  </thead>\n",
              "  <tbody>\n",
              "    <tr>\n",
              "      <th>857</th>\n",
              "      <td>GBM</td>\n",
              "      <td>TCGA-GBM</td>\n",
              "      <td>TCGA-19-5959</td>\n",
              "      <td>Female</td>\n",
              "      <td>77 years 325 days</td>\n",
              "      <td>Glioblastoma</td>\n",
              "      <td>white</td>\n",
              "      <td>NOT_MUTATED</td>\n",
              "      <td>NOT_MUTATED</td>\n",
              "      <td>NOT_MUTATED</td>\n",
              "      <td>...</td>\n",
              "      <td>NOT_MUTATED</td>\n",
              "      <td>NOT_MUTATED</td>\n",
              "      <td>NOT_MUTATED</td>\n",
              "      <td>NOT_MUTATED</td>\n",
              "      <td>NOT_MUTATED</td>\n",
              "      <td>NOT_MUTATED</td>\n",
              "      <td>NOT_MUTATED</td>\n",
              "      <td>NOT_MUTATED</td>\n",
              "      <td>NOT_MUTATED</td>\n",
              "      <td>NOT_MUTATED</td>\n",
              "    </tr>\n",
              "    <tr>\n",
              "      <th>858</th>\n",
              "      <td>GBM</td>\n",
              "      <td>TCGA-GBM</td>\n",
              "      <td>TCGA-16-0846</td>\n",
              "      <td>Male</td>\n",
              "      <td>85 years 65 days</td>\n",
              "      <td>Glioblastoma</td>\n",
              "      <td>white</td>\n",
              "      <td>NOT_MUTATED</td>\n",
              "      <td>MUTATED</td>\n",
              "      <td>NOT_MUTATED</td>\n",
              "      <td>...</td>\n",
              "      <td>NOT_MUTATED</td>\n",
              "      <td>NOT_MUTATED</td>\n",
              "      <td>NOT_MUTATED</td>\n",
              "      <td>NOT_MUTATED</td>\n",
              "      <td>NOT_MUTATED</td>\n",
              "      <td>NOT_MUTATED</td>\n",
              "      <td>NOT_MUTATED</td>\n",
              "      <td>NOT_MUTATED</td>\n",
              "      <td>NOT_MUTATED</td>\n",
              "      <td>NOT_MUTATED</td>\n",
              "    </tr>\n",
              "    <tr>\n",
              "      <th>859</th>\n",
              "      <td>GBM</td>\n",
              "      <td>TCGA-GBM</td>\n",
              "      <td>TCGA-28-1746</td>\n",
              "      <td>Female</td>\n",
              "      <td>77 years 178 days</td>\n",
              "      <td>Glioblastoma</td>\n",
              "      <td>white</td>\n",
              "      <td>NOT_MUTATED</td>\n",
              "      <td>MUTATED</td>\n",
              "      <td>NOT_MUTATED</td>\n",
              "      <td>...</td>\n",
              "      <td>NOT_MUTATED</td>\n",
              "      <td>NOT_MUTATED</td>\n",
              "      <td>NOT_MUTATED</td>\n",
              "      <td>NOT_MUTATED</td>\n",
              "      <td>NOT_MUTATED</td>\n",
              "      <td>NOT_MUTATED</td>\n",
              "      <td>NOT_MUTATED</td>\n",
              "      <td>NOT_MUTATED</td>\n",
              "      <td>NOT_MUTATED</td>\n",
              "      <td>NOT_MUTATED</td>\n",
              "    </tr>\n",
              "    <tr>\n",
              "      <th>860</th>\n",
              "      <td>GBM</td>\n",
              "      <td>TCGA-GBM</td>\n",
              "      <td>TCGA-32-2491</td>\n",
              "      <td>Male</td>\n",
              "      <td>63 years 121 days</td>\n",
              "      <td>Glioblastoma</td>\n",
              "      <td>white</td>\n",
              "      <td>NOT_MUTATED</td>\n",
              "      <td>MUTATED</td>\n",
              "      <td>NOT_MUTATED</td>\n",
              "      <td>...</td>\n",
              "      <td>NOT_MUTATED</td>\n",
              "      <td>MUTATED</td>\n",
              "      <td>NOT_MUTATED</td>\n",
              "      <td>NOT_MUTATED</td>\n",
              "      <td>NOT_MUTATED</td>\n",
              "      <td>NOT_MUTATED</td>\n",
              "      <td>NOT_MUTATED</td>\n",
              "      <td>NOT_MUTATED</td>\n",
              "      <td>NOT_MUTATED</td>\n",
              "      <td>NOT_MUTATED</td>\n",
              "    </tr>\n",
              "    <tr>\n",
              "      <th>861</th>\n",
              "      <td>GBM</td>\n",
              "      <td>TCGA-GBM</td>\n",
              "      <td>TCGA-06-2557</td>\n",
              "      <td>Male</td>\n",
              "      <td>76 years 221 days</td>\n",
              "      <td>Glioblastoma</td>\n",
              "      <td>black or african american</td>\n",
              "      <td>NOT_MUTATED</td>\n",
              "      <td>NOT_MUTATED</td>\n",
              "      <td>NOT_MUTATED</td>\n",
              "      <td>...</td>\n",
              "      <td>NOT_MUTATED</td>\n",
              "      <td>NOT_MUTATED</td>\n",
              "      <td>NOT_MUTATED</td>\n",
              "      <td>NOT_MUTATED</td>\n",
              "      <td>NOT_MUTATED</td>\n",
              "      <td>NOT_MUTATED</td>\n",
              "      <td>NOT_MUTATED</td>\n",
              "      <td>NOT_MUTATED</td>\n",
              "      <td>NOT_MUTATED</td>\n",
              "      <td>NOT_MUTATED</td>\n",
              "    </tr>\n",
              "  </tbody>\n",
              "</table>\n",
              "<p>5 rows × 27 columns</p>\n",
              "</div>\n",
              "    <div class=\"colab-df-buttons\">\n",
              "\n",
              "  <div class=\"colab-df-container\">\n",
              "    <button class=\"colab-df-convert\" onclick=\"convertToInteractive('df-2addac18-15b4-44a4-8393-1fd17afad65f')\"\n",
              "            title=\"Convert this dataframe to an interactive table.\"\n",
              "            style=\"display:none;\">\n",
              "\n",
              "  <svg xmlns=\"http://www.w3.org/2000/svg\" height=\"24px\" viewBox=\"0 -960 960 960\">\n",
              "    <path d=\"M120-120v-720h720v720H120Zm60-500h600v-160H180v160Zm220 220h160v-160H400v160Zm0 220h160v-160H400v160ZM180-400h160v-160H180v160Zm440 0h160v-160H620v160ZM180-180h160v-160H180v160Zm440 0h160v-160H620v160Z\"/>\n",
              "  </svg>\n",
              "    </button>\n",
              "\n",
              "  <style>\n",
              "    .colab-df-container {\n",
              "      display:flex;\n",
              "      gap: 12px;\n",
              "    }\n",
              "\n",
              "    .colab-df-convert {\n",
              "      background-color: #E8F0FE;\n",
              "      border: none;\n",
              "      border-radius: 50%;\n",
              "      cursor: pointer;\n",
              "      display: none;\n",
              "      fill: #1967D2;\n",
              "      height: 32px;\n",
              "      padding: 0 0 0 0;\n",
              "      width: 32px;\n",
              "    }\n",
              "\n",
              "    .colab-df-convert:hover {\n",
              "      background-color: #E2EBFA;\n",
              "      box-shadow: 0px 1px 2px rgba(60, 64, 67, 0.3), 0px 1px 3px 1px rgba(60, 64, 67, 0.15);\n",
              "      fill: #174EA6;\n",
              "    }\n",
              "\n",
              "    .colab-df-buttons div {\n",
              "      margin-bottom: 4px;\n",
              "    }\n",
              "\n",
              "    [theme=dark] .colab-df-convert {\n",
              "      background-color: #3B4455;\n",
              "      fill: #D2E3FC;\n",
              "    }\n",
              "\n",
              "    [theme=dark] .colab-df-convert:hover {\n",
              "      background-color: #434B5C;\n",
              "      box-shadow: 0px 1px 3px 1px rgba(0, 0, 0, 0.15);\n",
              "      filter: drop-shadow(0px 1px 2px rgba(0, 0, 0, 0.3));\n",
              "      fill: #FFFFFF;\n",
              "    }\n",
              "  </style>\n",
              "\n",
              "    <script>\n",
              "      const buttonEl =\n",
              "        document.querySelector('#df-2addac18-15b4-44a4-8393-1fd17afad65f button.colab-df-convert');\n",
              "      buttonEl.style.display =\n",
              "        google.colab.kernel.accessAllowed ? 'block' : 'none';\n",
              "\n",
              "      async function convertToInteractive(key) {\n",
              "        const element = document.querySelector('#df-2addac18-15b4-44a4-8393-1fd17afad65f');\n",
              "        const dataTable =\n",
              "          await google.colab.kernel.invokeFunction('convertToInteractive',\n",
              "                                                    [key], {});\n",
              "        if (!dataTable) return;\n",
              "\n",
              "        const docLinkHtml = 'Like what you see? Visit the ' +\n",
              "          '<a target=\"_blank\" href=https://colab.research.google.com/notebooks/data_table.ipynb>data table notebook</a>'\n",
              "          + ' to learn more about interactive tables.';\n",
              "        element.innerHTML = '';\n",
              "        dataTable['output_type'] = 'display_data';\n",
              "        await google.colab.output.renderOutput(dataTable, element);\n",
              "        const docLink = document.createElement('div');\n",
              "        docLink.innerHTML = docLinkHtml;\n",
              "        element.appendChild(docLink);\n",
              "      }\n",
              "    </script>\n",
              "  </div>\n",
              "\n",
              "\n",
              "<div id=\"df-cd28c0e4-b43c-41ca-a399-7e39ec28fa25\">\n",
              "  <button class=\"colab-df-quickchart\" onclick=\"quickchart('df-cd28c0e4-b43c-41ca-a399-7e39ec28fa25')\"\n",
              "            title=\"Suggest charts\"\n",
              "            style=\"display:none;\">\n",
              "\n",
              "<svg xmlns=\"http://www.w3.org/2000/svg\" height=\"24px\"viewBox=\"0 0 24 24\"\n",
              "     width=\"24px\">\n",
              "    <g>\n",
              "        <path d=\"M19 3H5c-1.1 0-2 .9-2 2v14c0 1.1.9 2 2 2h14c1.1 0 2-.9 2-2V5c0-1.1-.9-2-2-2zM9 17H7v-7h2v7zm4 0h-2V7h2v10zm4 0h-2v-4h2v4z\"/>\n",
              "    </g>\n",
              "</svg>\n",
              "  </button>\n",
              "\n",
              "<style>\n",
              "  .colab-df-quickchart {\n",
              "      --bg-color: #E8F0FE;\n",
              "      --fill-color: #1967D2;\n",
              "      --hover-bg-color: #E2EBFA;\n",
              "      --hover-fill-color: #174EA6;\n",
              "      --disabled-fill-color: #AAA;\n",
              "      --disabled-bg-color: #DDD;\n",
              "  }\n",
              "\n",
              "  [theme=dark] .colab-df-quickchart {\n",
              "      --bg-color: #3B4455;\n",
              "      --fill-color: #D2E3FC;\n",
              "      --hover-bg-color: #434B5C;\n",
              "      --hover-fill-color: #FFFFFF;\n",
              "      --disabled-bg-color: #3B4455;\n",
              "      --disabled-fill-color: #666;\n",
              "  }\n",
              "\n",
              "  .colab-df-quickchart {\n",
              "    background-color: var(--bg-color);\n",
              "    border: none;\n",
              "    border-radius: 50%;\n",
              "    cursor: pointer;\n",
              "    display: none;\n",
              "    fill: var(--fill-color);\n",
              "    height: 32px;\n",
              "    padding: 0;\n",
              "    width: 32px;\n",
              "  }\n",
              "\n",
              "  .colab-df-quickchart:hover {\n",
              "    background-color: var(--hover-bg-color);\n",
              "    box-shadow: 0 1px 2px rgba(60, 64, 67, 0.3), 0 1px 3px 1px rgba(60, 64, 67, 0.15);\n",
              "    fill: var(--button-hover-fill-color);\n",
              "  }\n",
              "\n",
              "  .colab-df-quickchart-complete:disabled,\n",
              "  .colab-df-quickchart-complete:disabled:hover {\n",
              "    background-color: var(--disabled-bg-color);\n",
              "    fill: var(--disabled-fill-color);\n",
              "    box-shadow: none;\n",
              "  }\n",
              "\n",
              "  .colab-df-spinner {\n",
              "    border: 2px solid var(--fill-color);\n",
              "    border-color: transparent;\n",
              "    border-bottom-color: var(--fill-color);\n",
              "    animation:\n",
              "      spin 1s steps(1) infinite;\n",
              "  }\n",
              "\n",
              "  @keyframes spin {\n",
              "    0% {\n",
              "      border-color: transparent;\n",
              "      border-bottom-color: var(--fill-color);\n",
              "      border-left-color: var(--fill-color);\n",
              "    }\n",
              "    20% {\n",
              "      border-color: transparent;\n",
              "      border-left-color: var(--fill-color);\n",
              "      border-top-color: var(--fill-color);\n",
              "    }\n",
              "    30% {\n",
              "      border-color: transparent;\n",
              "      border-left-color: var(--fill-color);\n",
              "      border-top-color: var(--fill-color);\n",
              "      border-right-color: var(--fill-color);\n",
              "    }\n",
              "    40% {\n",
              "      border-color: transparent;\n",
              "      border-right-color: var(--fill-color);\n",
              "      border-top-color: var(--fill-color);\n",
              "    }\n",
              "    60% {\n",
              "      border-color: transparent;\n",
              "      border-right-color: var(--fill-color);\n",
              "    }\n",
              "    80% {\n",
              "      border-color: transparent;\n",
              "      border-right-color: var(--fill-color);\n",
              "      border-bottom-color: var(--fill-color);\n",
              "    }\n",
              "    90% {\n",
              "      border-color: transparent;\n",
              "      border-bottom-color: var(--fill-color);\n",
              "    }\n",
              "  }\n",
              "</style>\n",
              "\n",
              "  <script>\n",
              "    async function quickchart(key) {\n",
              "      const quickchartButtonEl =\n",
              "        document.querySelector('#' + key + ' button');\n",
              "      quickchartButtonEl.disabled = true;  // To prevent multiple clicks.\n",
              "      quickchartButtonEl.classList.add('colab-df-spinner');\n",
              "      try {\n",
              "        const charts = await google.colab.kernel.invokeFunction(\n",
              "            'suggestCharts', [key], {});\n",
              "      } catch (error) {\n",
              "        console.error('Error during call to suggestCharts:', error);\n",
              "      }\n",
              "      quickchartButtonEl.classList.remove('colab-df-spinner');\n",
              "      quickchartButtonEl.classList.add('colab-df-quickchart-complete');\n",
              "    }\n",
              "    (() => {\n",
              "      let quickchartButtonEl =\n",
              "        document.querySelector('#df-cd28c0e4-b43c-41ca-a399-7e39ec28fa25 button');\n",
              "      quickchartButtonEl.style.display =\n",
              "        google.colab.kernel.accessAllowed ? 'block' : 'none';\n",
              "    })();\n",
              "  </script>\n",
              "</div>\n",
              "\n",
              "    </div>\n",
              "  </div>\n"
            ],
            "application/vnd.google.colaboratory.intrinsic+json": {
              "type": "dataframe"
            }
          },
          "metadata": {},
          "execution_count": 5
        }
      ]
    },
    {
      "cell_type": "code",
      "source": [
        "dataset.describe()"
      ],
      "metadata": {
        "id": "7YZzXvirDsJG",
        "colab": {
          "base_uri": "https://localhost:8080/",
          "height": 259
        },
        "outputId": "ce20065a-0c82-4d45-b6b8-60dc4c4910ad"
      },
      "execution_count": null,
      "outputs": [
        {
          "output_type": "execute_result",
          "data": {
            "text/plain": [
              "       Grade   Project       Case_ID Gender Age_at_diagnosis  \\\n",
              "count    862       862           862    862              862   \n",
              "unique     2         2           862      3              838   \n",
              "top      LGG  TCGA-LGG  TCGA-DU-8164   Male               --   \n",
              "freq     499       499             1    499                5   \n",
              "\n",
              "       Primary_Diagnosis   Race         IDH1         TP53         ATRX  ...  \\\n",
              "count                862    862          862          862          862  ...   \n",
              "unique                 7      6            2            2            2  ...   \n",
              "top         Glioblastoma  white  NOT_MUTATED  NOT_MUTATED  NOT_MUTATED  ...   \n",
              "freq                 360    766          448          508          642  ...   \n",
              "\n",
              "              FUBP1          RB1       NOTCH1         BCOR        CSMD3  \\\n",
              "count           862          862          862          862          862   \n",
              "unique            2            2            2            2            2   \n",
              "top     NOT_MUTATED  NOT_MUTATED  NOT_MUTATED  NOT_MUTATED  NOT_MUTATED   \n",
              "freq            815          821          824          833          834   \n",
              "\n",
              "            SMARCA4       GRIN2A         IDH2         FAT4       PDGFRA  \n",
              "count           862          862          862          862          862  \n",
              "unique            2            2            2            2            2  \n",
              "top     NOT_MUTATED  NOT_MUTATED  NOT_MUTATED  NOT_MUTATED  NOT_MUTATED  \n",
              "freq            834          835          839          839          840  \n",
              "\n",
              "[4 rows x 27 columns]"
            ],
            "text/html": [
              "\n",
              "  <div id=\"df-cdd5ac7c-ed48-4829-8b66-7c7c30dcce54\" class=\"colab-df-container\">\n",
              "    <div>\n",
              "<style scoped>\n",
              "    .dataframe tbody tr th:only-of-type {\n",
              "        vertical-align: middle;\n",
              "    }\n",
              "\n",
              "    .dataframe tbody tr th {\n",
              "        vertical-align: top;\n",
              "    }\n",
              "\n",
              "    .dataframe thead th {\n",
              "        text-align: right;\n",
              "    }\n",
              "</style>\n",
              "<table border=\"1\" class=\"dataframe\">\n",
              "  <thead>\n",
              "    <tr style=\"text-align: right;\">\n",
              "      <th></th>\n",
              "      <th>Grade</th>\n",
              "      <th>Project</th>\n",
              "      <th>Case_ID</th>\n",
              "      <th>Gender</th>\n",
              "      <th>Age_at_diagnosis</th>\n",
              "      <th>Primary_Diagnosis</th>\n",
              "      <th>Race</th>\n",
              "      <th>IDH1</th>\n",
              "      <th>TP53</th>\n",
              "      <th>ATRX</th>\n",
              "      <th>...</th>\n",
              "      <th>FUBP1</th>\n",
              "      <th>RB1</th>\n",
              "      <th>NOTCH1</th>\n",
              "      <th>BCOR</th>\n",
              "      <th>CSMD3</th>\n",
              "      <th>SMARCA4</th>\n",
              "      <th>GRIN2A</th>\n",
              "      <th>IDH2</th>\n",
              "      <th>FAT4</th>\n",
              "      <th>PDGFRA</th>\n",
              "    </tr>\n",
              "  </thead>\n",
              "  <tbody>\n",
              "    <tr>\n",
              "      <th>count</th>\n",
              "      <td>862</td>\n",
              "      <td>862</td>\n",
              "      <td>862</td>\n",
              "      <td>862</td>\n",
              "      <td>862</td>\n",
              "      <td>862</td>\n",
              "      <td>862</td>\n",
              "      <td>862</td>\n",
              "      <td>862</td>\n",
              "      <td>862</td>\n",
              "      <td>...</td>\n",
              "      <td>862</td>\n",
              "      <td>862</td>\n",
              "      <td>862</td>\n",
              "      <td>862</td>\n",
              "      <td>862</td>\n",
              "      <td>862</td>\n",
              "      <td>862</td>\n",
              "      <td>862</td>\n",
              "      <td>862</td>\n",
              "      <td>862</td>\n",
              "    </tr>\n",
              "    <tr>\n",
              "      <th>unique</th>\n",
              "      <td>2</td>\n",
              "      <td>2</td>\n",
              "      <td>862</td>\n",
              "      <td>3</td>\n",
              "      <td>838</td>\n",
              "      <td>7</td>\n",
              "      <td>6</td>\n",
              "      <td>2</td>\n",
              "      <td>2</td>\n",
              "      <td>2</td>\n",
              "      <td>...</td>\n",
              "      <td>2</td>\n",
              "      <td>2</td>\n",
              "      <td>2</td>\n",
              "      <td>2</td>\n",
              "      <td>2</td>\n",
              "      <td>2</td>\n",
              "      <td>2</td>\n",
              "      <td>2</td>\n",
              "      <td>2</td>\n",
              "      <td>2</td>\n",
              "    </tr>\n",
              "    <tr>\n",
              "      <th>top</th>\n",
              "      <td>LGG</td>\n",
              "      <td>TCGA-LGG</td>\n",
              "      <td>TCGA-DU-8164</td>\n",
              "      <td>Male</td>\n",
              "      <td>--</td>\n",
              "      <td>Glioblastoma</td>\n",
              "      <td>white</td>\n",
              "      <td>NOT_MUTATED</td>\n",
              "      <td>NOT_MUTATED</td>\n",
              "      <td>NOT_MUTATED</td>\n",
              "      <td>...</td>\n",
              "      <td>NOT_MUTATED</td>\n",
              "      <td>NOT_MUTATED</td>\n",
              "      <td>NOT_MUTATED</td>\n",
              "      <td>NOT_MUTATED</td>\n",
              "      <td>NOT_MUTATED</td>\n",
              "      <td>NOT_MUTATED</td>\n",
              "      <td>NOT_MUTATED</td>\n",
              "      <td>NOT_MUTATED</td>\n",
              "      <td>NOT_MUTATED</td>\n",
              "      <td>NOT_MUTATED</td>\n",
              "    </tr>\n",
              "    <tr>\n",
              "      <th>freq</th>\n",
              "      <td>499</td>\n",
              "      <td>499</td>\n",
              "      <td>1</td>\n",
              "      <td>499</td>\n",
              "      <td>5</td>\n",
              "      <td>360</td>\n",
              "      <td>766</td>\n",
              "      <td>448</td>\n",
              "      <td>508</td>\n",
              "      <td>642</td>\n",
              "      <td>...</td>\n",
              "      <td>815</td>\n",
              "      <td>821</td>\n",
              "      <td>824</td>\n",
              "      <td>833</td>\n",
              "      <td>834</td>\n",
              "      <td>834</td>\n",
              "      <td>835</td>\n",
              "      <td>839</td>\n",
              "      <td>839</td>\n",
              "      <td>840</td>\n",
              "    </tr>\n",
              "  </tbody>\n",
              "</table>\n",
              "<p>4 rows × 27 columns</p>\n",
              "</div>\n",
              "    <div class=\"colab-df-buttons\">\n",
              "\n",
              "  <div class=\"colab-df-container\">\n",
              "    <button class=\"colab-df-convert\" onclick=\"convertToInteractive('df-cdd5ac7c-ed48-4829-8b66-7c7c30dcce54')\"\n",
              "            title=\"Convert this dataframe to an interactive table.\"\n",
              "            style=\"display:none;\">\n",
              "\n",
              "  <svg xmlns=\"http://www.w3.org/2000/svg\" height=\"24px\" viewBox=\"0 -960 960 960\">\n",
              "    <path d=\"M120-120v-720h720v720H120Zm60-500h600v-160H180v160Zm220 220h160v-160H400v160Zm0 220h160v-160H400v160ZM180-400h160v-160H180v160Zm440 0h160v-160H620v160ZM180-180h160v-160H180v160Zm440 0h160v-160H620v160Z\"/>\n",
              "  </svg>\n",
              "    </button>\n",
              "\n",
              "  <style>\n",
              "    .colab-df-container {\n",
              "      display:flex;\n",
              "      gap: 12px;\n",
              "    }\n",
              "\n",
              "    .colab-df-convert {\n",
              "      background-color: #E8F0FE;\n",
              "      border: none;\n",
              "      border-radius: 50%;\n",
              "      cursor: pointer;\n",
              "      display: none;\n",
              "      fill: #1967D2;\n",
              "      height: 32px;\n",
              "      padding: 0 0 0 0;\n",
              "      width: 32px;\n",
              "    }\n",
              "\n",
              "    .colab-df-convert:hover {\n",
              "      background-color: #E2EBFA;\n",
              "      box-shadow: 0px 1px 2px rgba(60, 64, 67, 0.3), 0px 1px 3px 1px rgba(60, 64, 67, 0.15);\n",
              "      fill: #174EA6;\n",
              "    }\n",
              "\n",
              "    .colab-df-buttons div {\n",
              "      margin-bottom: 4px;\n",
              "    }\n",
              "\n",
              "    [theme=dark] .colab-df-convert {\n",
              "      background-color: #3B4455;\n",
              "      fill: #D2E3FC;\n",
              "    }\n",
              "\n",
              "    [theme=dark] .colab-df-convert:hover {\n",
              "      background-color: #434B5C;\n",
              "      box-shadow: 0px 1px 3px 1px rgba(0, 0, 0, 0.15);\n",
              "      filter: drop-shadow(0px 1px 2px rgba(0, 0, 0, 0.3));\n",
              "      fill: #FFFFFF;\n",
              "    }\n",
              "  </style>\n",
              "\n",
              "    <script>\n",
              "      const buttonEl =\n",
              "        document.querySelector('#df-cdd5ac7c-ed48-4829-8b66-7c7c30dcce54 button.colab-df-convert');\n",
              "      buttonEl.style.display =\n",
              "        google.colab.kernel.accessAllowed ? 'block' : 'none';\n",
              "\n",
              "      async function convertToInteractive(key) {\n",
              "        const element = document.querySelector('#df-cdd5ac7c-ed48-4829-8b66-7c7c30dcce54');\n",
              "        const dataTable =\n",
              "          await google.colab.kernel.invokeFunction('convertToInteractive',\n",
              "                                                    [key], {});\n",
              "        if (!dataTable) return;\n",
              "\n",
              "        const docLinkHtml = 'Like what you see? Visit the ' +\n",
              "          '<a target=\"_blank\" href=https://colab.research.google.com/notebooks/data_table.ipynb>data table notebook</a>'\n",
              "          + ' to learn more about interactive tables.';\n",
              "        element.innerHTML = '';\n",
              "        dataTable['output_type'] = 'display_data';\n",
              "        await google.colab.output.renderOutput(dataTable, element);\n",
              "        const docLink = document.createElement('div');\n",
              "        docLink.innerHTML = docLinkHtml;\n",
              "        element.appendChild(docLink);\n",
              "      }\n",
              "    </script>\n",
              "  </div>\n",
              "\n",
              "\n",
              "<div id=\"df-22f73fc6-5cc5-4d22-bc85-cca651d74c47\">\n",
              "  <button class=\"colab-df-quickchart\" onclick=\"quickchart('df-22f73fc6-5cc5-4d22-bc85-cca651d74c47')\"\n",
              "            title=\"Suggest charts\"\n",
              "            style=\"display:none;\">\n",
              "\n",
              "<svg xmlns=\"http://www.w3.org/2000/svg\" height=\"24px\"viewBox=\"0 0 24 24\"\n",
              "     width=\"24px\">\n",
              "    <g>\n",
              "        <path d=\"M19 3H5c-1.1 0-2 .9-2 2v14c0 1.1.9 2 2 2h14c1.1 0 2-.9 2-2V5c0-1.1-.9-2-2-2zM9 17H7v-7h2v7zm4 0h-2V7h2v10zm4 0h-2v-4h2v4z\"/>\n",
              "    </g>\n",
              "</svg>\n",
              "  </button>\n",
              "\n",
              "<style>\n",
              "  .colab-df-quickchart {\n",
              "      --bg-color: #E8F0FE;\n",
              "      --fill-color: #1967D2;\n",
              "      --hover-bg-color: #E2EBFA;\n",
              "      --hover-fill-color: #174EA6;\n",
              "      --disabled-fill-color: #AAA;\n",
              "      --disabled-bg-color: #DDD;\n",
              "  }\n",
              "\n",
              "  [theme=dark] .colab-df-quickchart {\n",
              "      --bg-color: #3B4455;\n",
              "      --fill-color: #D2E3FC;\n",
              "      --hover-bg-color: #434B5C;\n",
              "      --hover-fill-color: #FFFFFF;\n",
              "      --disabled-bg-color: #3B4455;\n",
              "      --disabled-fill-color: #666;\n",
              "  }\n",
              "\n",
              "  .colab-df-quickchart {\n",
              "    background-color: var(--bg-color);\n",
              "    border: none;\n",
              "    border-radius: 50%;\n",
              "    cursor: pointer;\n",
              "    display: none;\n",
              "    fill: var(--fill-color);\n",
              "    height: 32px;\n",
              "    padding: 0;\n",
              "    width: 32px;\n",
              "  }\n",
              "\n",
              "  .colab-df-quickchart:hover {\n",
              "    background-color: var(--hover-bg-color);\n",
              "    box-shadow: 0 1px 2px rgba(60, 64, 67, 0.3), 0 1px 3px 1px rgba(60, 64, 67, 0.15);\n",
              "    fill: var(--button-hover-fill-color);\n",
              "  }\n",
              "\n",
              "  .colab-df-quickchart-complete:disabled,\n",
              "  .colab-df-quickchart-complete:disabled:hover {\n",
              "    background-color: var(--disabled-bg-color);\n",
              "    fill: var(--disabled-fill-color);\n",
              "    box-shadow: none;\n",
              "  }\n",
              "\n",
              "  .colab-df-spinner {\n",
              "    border: 2px solid var(--fill-color);\n",
              "    border-color: transparent;\n",
              "    border-bottom-color: var(--fill-color);\n",
              "    animation:\n",
              "      spin 1s steps(1) infinite;\n",
              "  }\n",
              "\n",
              "  @keyframes spin {\n",
              "    0% {\n",
              "      border-color: transparent;\n",
              "      border-bottom-color: var(--fill-color);\n",
              "      border-left-color: var(--fill-color);\n",
              "    }\n",
              "    20% {\n",
              "      border-color: transparent;\n",
              "      border-left-color: var(--fill-color);\n",
              "      border-top-color: var(--fill-color);\n",
              "    }\n",
              "    30% {\n",
              "      border-color: transparent;\n",
              "      border-left-color: var(--fill-color);\n",
              "      border-top-color: var(--fill-color);\n",
              "      border-right-color: var(--fill-color);\n",
              "    }\n",
              "    40% {\n",
              "      border-color: transparent;\n",
              "      border-right-color: var(--fill-color);\n",
              "      border-top-color: var(--fill-color);\n",
              "    }\n",
              "    60% {\n",
              "      border-color: transparent;\n",
              "      border-right-color: var(--fill-color);\n",
              "    }\n",
              "    80% {\n",
              "      border-color: transparent;\n",
              "      border-right-color: var(--fill-color);\n",
              "      border-bottom-color: var(--fill-color);\n",
              "    }\n",
              "    90% {\n",
              "      border-color: transparent;\n",
              "      border-bottom-color: var(--fill-color);\n",
              "    }\n",
              "  }\n",
              "</style>\n",
              "\n",
              "  <script>\n",
              "    async function quickchart(key) {\n",
              "      const quickchartButtonEl =\n",
              "        document.querySelector('#' + key + ' button');\n",
              "      quickchartButtonEl.disabled = true;  // To prevent multiple clicks.\n",
              "      quickchartButtonEl.classList.add('colab-df-spinner');\n",
              "      try {\n",
              "        const charts = await google.colab.kernel.invokeFunction(\n",
              "            'suggestCharts', [key], {});\n",
              "      } catch (error) {\n",
              "        console.error('Error during call to suggestCharts:', error);\n",
              "      }\n",
              "      quickchartButtonEl.classList.remove('colab-df-spinner');\n",
              "      quickchartButtonEl.classList.add('colab-df-quickchart-complete');\n",
              "    }\n",
              "    (() => {\n",
              "      let quickchartButtonEl =\n",
              "        document.querySelector('#df-22f73fc6-5cc5-4d22-bc85-cca651d74c47 button');\n",
              "      quickchartButtonEl.style.display =\n",
              "        google.colab.kernel.accessAllowed ? 'block' : 'none';\n",
              "    })();\n",
              "  </script>\n",
              "</div>\n",
              "\n",
              "    </div>\n",
              "  </div>\n"
            ],
            "application/vnd.google.colaboratory.intrinsic+json": {
              "type": "dataframe"
            }
          },
          "metadata": {},
          "execution_count": 6
        }
      ]
    },
    {
      "cell_type": "code",
      "source": [
        "dataset.isnull().sum()"
      ],
      "metadata": {
        "colab": {
          "base_uri": "https://localhost:8080/"
        },
        "id": "GHs_bwB-q5P-",
        "outputId": "13aacd2e-21ea-4748-9f35-46dc051d67b0"
      },
      "execution_count": null,
      "outputs": [
        {
          "output_type": "execute_result",
          "data": {
            "text/plain": [
              "Grade                0\n",
              "Project              0\n",
              "Case_ID              0\n",
              "Gender               0\n",
              "Age_at_diagnosis     0\n",
              "Primary_Diagnosis    0\n",
              "Race                 0\n",
              "IDH1                 0\n",
              "TP53                 0\n",
              "ATRX                 0\n",
              "PTEN                 0\n",
              "EGFR                 0\n",
              "CIC                  0\n",
              "MUC16                0\n",
              "PIK3CA               0\n",
              "NF1                  0\n",
              "PIK3R1               0\n",
              "FUBP1                0\n",
              "RB1                  0\n",
              "NOTCH1               0\n",
              "BCOR                 0\n",
              "CSMD3                0\n",
              "SMARCA4              0\n",
              "GRIN2A               0\n",
              "IDH2                 0\n",
              "FAT4                 0\n",
              "PDGFRA               0\n",
              "dtype: int64"
            ]
          },
          "metadata": {},
          "execution_count": 7
        }
      ]
    },
    {
      "cell_type": "markdown",
      "source": [
        "**The dataset doesn’t have any null values. As this dataset is labelled.**"
      ],
      "metadata": {
        "id": "OlPtCCZcSefq"
      }
    },
    {
      "cell_type": "code",
      "source": [
        "import pandas as pd\n",
        "dataset1=pd.DataFrame(dataset)\n",
        "print(dataset1.head())"
      ],
      "metadata": {
        "colab": {
          "base_uri": "https://localhost:8080/"
        },
        "id": "0uHqh0QBQRl4",
        "outputId": "b0609a52-05ea-45da-eac3-da2a765dda92"
      },
      "execution_count": null,
      "outputs": [
        {
          "output_type": "stream",
          "name": "stdout",
          "text": [
            "  Grade   Project       Case_ID  Gender   Age_at_diagnosis  \\\n",
            "0   LGG  TCGA-LGG  TCGA-DU-8164    Male  51 years 108 days   \n",
            "1   LGG  TCGA-LGG  TCGA-QH-A6CY    Male  38 years 261 days   \n",
            "2   LGG  TCGA-LGG  TCGA-HW-A5KM    Male   35 years 62 days   \n",
            "3   LGG  TCGA-LGG  TCGA-E1-A7YE  Female  32 years 283 days   \n",
            "4   LGG  TCGA-LGG  TCGA-S9-A6WG    Male  31 years 187 days   \n",
            "\n",
            "         Primary_Diagnosis   Race     IDH1         TP53         ATRX  ...  \\\n",
            "0   Oligodendroglioma, NOS  white  MUTATED  NOT_MUTATED  NOT_MUTATED  ...   \n",
            "1             Mixed glioma  white  MUTATED  NOT_MUTATED  NOT_MUTATED  ...   \n",
            "2         Astrocytoma, NOS  white  MUTATED      MUTATED      MUTATED  ...   \n",
            "3  Astrocytoma, anaplastic  white  MUTATED      MUTATED      MUTATED  ...   \n",
            "4  Astrocytoma, anaplastic  white  MUTATED      MUTATED      MUTATED  ...   \n",
            "\n",
            "         FUBP1          RB1       NOTCH1         BCOR        CSMD3  \\\n",
            "0      MUTATED  NOT_MUTATED  NOT_MUTATED  NOT_MUTATED  NOT_MUTATED   \n",
            "1  NOT_MUTATED  NOT_MUTATED  NOT_MUTATED  NOT_MUTATED  NOT_MUTATED   \n",
            "2  NOT_MUTATED  NOT_MUTATED  NOT_MUTATED  NOT_MUTATED  NOT_MUTATED   \n",
            "3  NOT_MUTATED  NOT_MUTATED  NOT_MUTATED  NOT_MUTATED  NOT_MUTATED   \n",
            "4  NOT_MUTATED  NOT_MUTATED  NOT_MUTATED  NOT_MUTATED  NOT_MUTATED   \n",
            "\n",
            "       SMARCA4       GRIN2A         IDH2         FAT4       PDGFRA  \n",
            "0  NOT_MUTATED  NOT_MUTATED  NOT_MUTATED  NOT_MUTATED  NOT_MUTATED  \n",
            "1  NOT_MUTATED  NOT_MUTATED  NOT_MUTATED  NOT_MUTATED  NOT_MUTATED  \n",
            "2  NOT_MUTATED  NOT_MUTATED  NOT_MUTATED  NOT_MUTATED  NOT_MUTATED  \n",
            "3  NOT_MUTATED  NOT_MUTATED  NOT_MUTATED      MUTATED  NOT_MUTATED  \n",
            "4  NOT_MUTATED  NOT_MUTATED  NOT_MUTATED  NOT_MUTATED  NOT_MUTATED  \n",
            "\n",
            "[5 rows x 27 columns]\n"
          ]
        }
      ]
    },
    {
      "cell_type": "code",
      "source": [
        "cols=['Grade','Project','Case_ID','Gender', 'Age_at_diagnosis', 'Primary_Diagnosis', 'Race','IDH1','TP53','ATRX','PTEN','EGFR','CIC','MUC16','PIK3CA','NF1','PIK3R1','FUBP1','RB1','NOTCH1','BCOR','CSMD3','SMARCA4','GRIN2A','IDH2','FAT4','PDGFRA']\n",
        "from sklearn.preprocessing import LabelEncoder\n",
        "le=LabelEncoder()\n",
        "for i in cols:\n",
        "  dataset1[i]=le.fit_transform(dataset1[i])\n",
        "print(dataset1.head())"
      ],
      "metadata": {
        "colab": {
          "base_uri": "https://localhost:8080/"
        },
        "id": "CnO8sTExRH3s",
        "outputId": "8a2ec5df-7195-4c52-ece1-a6fa0cbe7075"
      },
      "execution_count": null,
      "outputs": [
        {
          "output_type": "stream",
          "name": "stdout",
          "text": [
            "   Grade  Project  Case_ID  Gender  Age_at_diagnosis  Primary_Diagnosis  Race  \\\n",
            "0      1        1      480       2               410                  5     5   \n",
            "1      1        1      732       2               223                  4     5   \n",
            "2      1        1      692       2               174                  1     5   \n",
            "3      1        1      518       1               126                  2     5   \n",
            "4      1        1      775       2               104                  2     5   \n",
            "\n",
            "   IDH1  TP53  ATRX  ...  FUBP1  RB1  NOTCH1  BCOR  CSMD3  SMARCA4  GRIN2A  \\\n",
            "0     0     1     1  ...      0    1       1     1      1        1       1   \n",
            "1     0     1     1  ...      1    1       1     1      1        1       1   \n",
            "2     0     0     0  ...      1    1       1     1      1        1       1   \n",
            "3     0     0     0  ...      1    1       1     1      1        1       1   \n",
            "4     0     0     0  ...      1    1       1     1      1        1       1   \n",
            "\n",
            "   IDH2  FAT4  PDGFRA  \n",
            "0     1     1       1  \n",
            "1     1     1       1  \n",
            "2     1     1       1  \n",
            "3     1     0       1  \n",
            "4     1     1       1  \n",
            "\n",
            "[5 rows x 27 columns]\n"
          ]
        }
      ]
    },
    {
      "cell_type": "markdown",
      "source": [
        "**Changing the String value to int64 value**\n",
        "\n"
      ],
      "metadata": {
        "id": "x6oC8nzHSCqw"
      }
    },
    {
      "cell_type": "code",
      "source": [
        "target=dataset1['Grade']\n",
        "input=dataset1.drop(columns=['Grade'])\n",
        "print(target.shape)\n",
        "input.shape"
      ],
      "metadata": {
        "colab": {
          "base_uri": "https://localhost:8080/"
        },
        "id": "kEdo8V4ar5Q5",
        "outputId": "d9209080-7097-4523-b322-6d39e12a0fa3"
      },
      "execution_count": null,
      "outputs": [
        {
          "output_type": "stream",
          "name": "stdout",
          "text": [
            "(862,)\n"
          ]
        },
        {
          "output_type": "execute_result",
          "data": {
            "text/plain": [
              "(862, 26)"
            ]
          },
          "metadata": {},
          "execution_count": 10
        }
      ]
    },
    {
      "cell_type": "code",
      "source": [
        "from sklearn.model_selection import train_test_split\n",
        "x_train,x_test,y_train,y_test=train_test_split(input, target, test_size=0.25)"
      ],
      "metadata": {
        "id": "Qe1Us_rzq_IC"
      },
      "execution_count": null,
      "outputs": []
    },
    {
      "cell_type": "code",
      "source": [
        "from sklearn.preprocessing import StandardScaler\n",
        "sc=StandardScaler()\n",
        "xtrain_sc=sc.fit_transform(x_train)\n",
        "xtest_sc=sc.transform(x_test)"
      ],
      "metadata": {
        "id": "8OaduTpiuK7W"
      },
      "execution_count": null,
      "outputs": []
    },
    {
      "cell_type": "code",
      "source": [
        "y_train.unique()"
      ],
      "metadata": {
        "colab": {
          "base_uri": "https://localhost:8080/"
        },
        "id": "IOHoHJwGY4Cw",
        "outputId": "e0d0a599-2619-4b5a-e56a-4b850fa76839"
      },
      "execution_count": null,
      "outputs": [
        {
          "output_type": "execute_result",
          "data": {
            "text/plain": [
              "array([0, 1])"
            ]
          },
          "metadata": {},
          "execution_count": 13
        }
      ]
    },
    {
      "cell_type": "code",
      "source": [
        "(y_train==0).sum()"
      ],
      "metadata": {
        "colab": {
          "base_uri": "https://localhost:8080/"
        },
        "id": "4jvJGiLdY60P",
        "outputId": "7dd7ea10-ef92-4210-f6db-c0d2811f98b2"
      },
      "execution_count": null,
      "outputs": [
        {
          "output_type": "execute_result",
          "data": {
            "text/plain": [
              "272"
            ]
          },
          "metadata": {},
          "execution_count": 14
        }
      ]
    },
    {
      "cell_type": "code",
      "source": [
        "(y_train==1).sum()"
      ],
      "metadata": {
        "colab": {
          "base_uri": "https://localhost:8080/"
        },
        "id": "ZFA-gDgIY-uK",
        "outputId": "a4d0f075-956c-4a9b-a811-153830354dae"
      },
      "execution_count": null,
      "outputs": [
        {
          "output_type": "execute_result",
          "data": {
            "text/plain": [
              "374"
            ]
          },
          "metadata": {},
          "execution_count": 15
        }
      ]
    },
    {
      "cell_type": "code",
      "source": [
        "y_train.shape"
      ],
      "metadata": {
        "colab": {
          "base_uri": "https://localhost:8080/"
        },
        "id": "wkz_mRI1ZB3y",
        "outputId": "aca3ba15-bdd4-415b-dab0-80f74afa55eb"
      },
      "execution_count": null,
      "outputs": [
        {
          "output_type": "execute_result",
          "data": {
            "text/plain": [
              "(646,)"
            ]
          },
          "metadata": {},
          "execution_count": 16
        }
      ]
    },
    {
      "cell_type": "code",
      "source": [
        "from sklearn.linear_model import Perceptron\n",
        "p=Perceptron()\n",
        "p.fit(x_train, y_train)"
      ],
      "metadata": {
        "colab": {
          "base_uri": "https://localhost:8080/",
          "height": 74
        },
        "id": "-8sFXVGQro8F",
        "outputId": "b31019cb-8eb0-4d23-99bf-5122097c35b2"
      },
      "execution_count": null,
      "outputs": [
        {
          "output_type": "execute_result",
          "data": {
            "text/plain": [
              "Perceptron()"
            ],
            "text/html": [
              "<style>#sk-container-id-1 {color: black;background-color: white;}#sk-container-id-1 pre{padding: 0;}#sk-container-id-1 div.sk-toggleable {background-color: white;}#sk-container-id-1 label.sk-toggleable__label {cursor: pointer;display: block;width: 100%;margin-bottom: 0;padding: 0.3em;box-sizing: border-box;text-align: center;}#sk-container-id-1 label.sk-toggleable__label-arrow:before {content: \"▸\";float: left;margin-right: 0.25em;color: #696969;}#sk-container-id-1 label.sk-toggleable__label-arrow:hover:before {color: black;}#sk-container-id-1 div.sk-estimator:hover label.sk-toggleable__label-arrow:before {color: black;}#sk-container-id-1 div.sk-toggleable__content {max-height: 0;max-width: 0;overflow: hidden;text-align: left;background-color: #f0f8ff;}#sk-container-id-1 div.sk-toggleable__content pre {margin: 0.2em;color: black;border-radius: 0.25em;background-color: #f0f8ff;}#sk-container-id-1 input.sk-toggleable__control:checked~div.sk-toggleable__content {max-height: 200px;max-width: 100%;overflow: auto;}#sk-container-id-1 input.sk-toggleable__control:checked~label.sk-toggleable__label-arrow:before {content: \"▾\";}#sk-container-id-1 div.sk-estimator input.sk-toggleable__control:checked~label.sk-toggleable__label {background-color: #d4ebff;}#sk-container-id-1 div.sk-label input.sk-toggleable__control:checked~label.sk-toggleable__label {background-color: #d4ebff;}#sk-container-id-1 input.sk-hidden--visually {border: 0;clip: rect(1px 1px 1px 1px);clip: rect(1px, 1px, 1px, 1px);height: 1px;margin: -1px;overflow: hidden;padding: 0;position: absolute;width: 1px;}#sk-container-id-1 div.sk-estimator {font-family: monospace;background-color: #f0f8ff;border: 1px dotted black;border-radius: 0.25em;box-sizing: border-box;margin-bottom: 0.5em;}#sk-container-id-1 div.sk-estimator:hover {background-color: #d4ebff;}#sk-container-id-1 div.sk-parallel-item::after {content: \"\";width: 100%;border-bottom: 1px solid gray;flex-grow: 1;}#sk-container-id-1 div.sk-label:hover label.sk-toggleable__label {background-color: #d4ebff;}#sk-container-id-1 div.sk-serial::before {content: \"\";position: absolute;border-left: 1px solid gray;box-sizing: border-box;top: 0;bottom: 0;left: 50%;z-index: 0;}#sk-container-id-1 div.sk-serial {display: flex;flex-direction: column;align-items: center;background-color: white;padding-right: 0.2em;padding-left: 0.2em;position: relative;}#sk-container-id-1 div.sk-item {position: relative;z-index: 1;}#sk-container-id-1 div.sk-parallel {display: flex;align-items: stretch;justify-content: center;background-color: white;position: relative;}#sk-container-id-1 div.sk-item::before, #sk-container-id-1 div.sk-parallel-item::before {content: \"\";position: absolute;border-left: 1px solid gray;box-sizing: border-box;top: 0;bottom: 0;left: 50%;z-index: -1;}#sk-container-id-1 div.sk-parallel-item {display: flex;flex-direction: column;z-index: 1;position: relative;background-color: white;}#sk-container-id-1 div.sk-parallel-item:first-child::after {align-self: flex-end;width: 50%;}#sk-container-id-1 div.sk-parallel-item:last-child::after {align-self: flex-start;width: 50%;}#sk-container-id-1 div.sk-parallel-item:only-child::after {width: 0;}#sk-container-id-1 div.sk-dashed-wrapped {border: 1px dashed gray;margin: 0 0.4em 0.5em 0.4em;box-sizing: border-box;padding-bottom: 0.4em;background-color: white;}#sk-container-id-1 div.sk-label label {font-family: monospace;font-weight: bold;display: inline-block;line-height: 1.2em;}#sk-container-id-1 div.sk-label-container {text-align: center;}#sk-container-id-1 div.sk-container {/* jupyter's `normalize.less` sets `[hidden] { display: none; }` but bootstrap.min.css set `[hidden] { display: none !important; }` so we also need the `!important` here to be able to override the default hidden behavior on the sphinx rendered scikit-learn.org. See: https://github.com/scikit-learn/scikit-learn/issues/21755 */display: inline-block !important;position: relative;}#sk-container-id-1 div.sk-text-repr-fallback {display: none;}</style><div id=\"sk-container-id-1\" class=\"sk-top-container\"><div class=\"sk-text-repr-fallback\"><pre>Perceptron()</pre><b>In a Jupyter environment, please rerun this cell to show the HTML representation or trust the notebook. <br />On GitHub, the HTML representation is unable to render, please try loading this page with nbviewer.org.</b></div><div class=\"sk-container\" hidden><div class=\"sk-item\"><div class=\"sk-estimator sk-toggleable\"><input class=\"sk-toggleable__control sk-hidden--visually\" id=\"sk-estimator-id-1\" type=\"checkbox\" checked><label for=\"sk-estimator-id-1\" class=\"sk-toggleable__label sk-toggleable__label-arrow\">Perceptron</label><div class=\"sk-toggleable__content\"><pre>Perceptron()</pre></div></div></div></div></div>"
            ]
          },
          "metadata": {},
          "execution_count": 17
        }
      ]
    },
    {
      "cell_type": "code",
      "source": [
        "p_train_results=p.predict(xtrain_sc)\n",
        "p_test_results=p.predict(xtest_sc)"
      ],
      "metadata": {
        "colab": {
          "base_uri": "https://localhost:8080/"
        },
        "id": "whYx8cBhuA4q",
        "outputId": "1f8f4d8a-40ab-4e4d-fad7-5c2fc2486835"
      },
      "execution_count": null,
      "outputs": [
        {
          "output_type": "stream",
          "name": "stderr",
          "text": [
            "/usr/local/lib/python3.10/dist-packages/sklearn/base.py:439: UserWarning: X does not have valid feature names, but Perceptron was fitted with feature names\n",
            "  warnings.warn(\n",
            "/usr/local/lib/python3.10/dist-packages/sklearn/base.py:439: UserWarning: X does not have valid feature names, but Perceptron was fitted with feature names\n",
            "  warnings.warn(\n"
          ]
        }
      ]
    },
    {
      "cell_type": "code",
      "source": [
        "from sklearn.metrics import accuracy_score\n",
        "print(\"Training Accuracy:\", accuracy_score(p_train_results, y_train))\n",
        "print(\"Testing Accuracy:\", accuracy_score(p_test_results, y_test))"
      ],
      "metadata": {
        "colab": {
          "base_uri": "https://localhost:8080/"
        },
        "id": "b7bCPYU-ZRfD",
        "outputId": "9eb66714-68e1-4487-d97e-a9b1b063601a"
      },
      "execution_count": null,
      "outputs": [
        {
          "output_type": "stream",
          "name": "stdout",
          "text": [
            "Training Accuracy: 0.8792569659442725\n",
            "Testing Accuracy: 0.8333333333333334\n"
          ]
        }
      ]
    },
    {
      "cell_type": "code",
      "source": [
        "from sklearn.metrics import confusion_matrix\n",
        "print(\"confusion matrix:\")\n",
        "print(confusion_matrix(p_train_results, y_train))"
      ],
      "metadata": {
        "colab": {
          "base_uri": "https://localhost:8080/"
        },
        "id": "6zFTWav7ZU3k",
        "outputId": "184987c8-acec-4b81-a1ef-0aab9d28fe0b"
      },
      "execution_count": null,
      "outputs": [
        {
          "output_type": "stream",
          "name": "stdout",
          "text": [
            "confusion matrix:\n",
            "[[252  58]\n",
            " [ 20 316]]\n"
          ]
        }
      ]
    },
    {
      "cell_type": "code",
      "source": [
        "print(confusion_matrix(p_test_results, y_test))"
      ],
      "metadata": {
        "colab": {
          "base_uri": "https://localhost:8080/"
        },
        "id": "3xbIcHtka7Pu",
        "outputId": "820b67cc-737e-444d-9d92-515f5fc7abdc"
      },
      "execution_count": null,
      "outputs": [
        {
          "output_type": "stream",
          "name": "stdout",
          "text": [
            "[[ 80  25]\n",
            " [ 11 100]]\n"
          ]
        }
      ]
    },
    {
      "cell_type": "code",
      "source": [
        "from sklearn.metrics import precision_score, recall_score, f1_score\n",
        "print(\"Precision:\", precision_score(p_train_results, y_train))\n",
        "print(\"Recall:\", recall_score(p_train_results, y_train))\n",
        "print(\"F1 Score:\", f1_score(p_train_results, y_train))\n"
      ],
      "metadata": {
        "colab": {
          "base_uri": "https://localhost:8080/"
        },
        "id": "kwhFPA77a-LA",
        "outputId": "973d343d-62b1-4224-c672-204c8ad7a21a"
      },
      "execution_count": null,
      "outputs": [
        {
          "output_type": "stream",
          "name": "stdout",
          "text": [
            "Precision: 0.8449197860962567\n",
            "Recall: 0.9404761904761905\n",
            "F1 Score: 0.8901408450704225\n"
          ]
        }
      ]
    },
    {
      "cell_type": "code",
      "source": [
        "from sklearn.model_selection import GridSearchCV"
      ],
      "metadata": {
        "id": "jV50ePdZbApe"
      },
      "execution_count": null,
      "outputs": []
    },
    {
      "cell_type": "code",
      "source": [
        "params=[{'penalty':['l1', 'l2', 'elasticnet']}, {'alpha':[0.001, 0.01, 0.1, 1]},\n",
        "        {'eta0':[0.001, 0.01, 0.2, 0.5, 0.8]}]"
      ],
      "metadata": {
        "id": "1AbqxnXebLLU"
      },
      "execution_count": null,
      "outputs": []
    },
    {
      "cell_type": "code",
      "source": [
        "gs=GridSearchCV(estimator=Perceptron(), param_grid=params)"
      ],
      "metadata": {
        "id": "T4gp8IDdbNC8"
      },
      "execution_count": null,
      "outputs": []
    },
    {
      "cell_type": "code",
      "source": [
        "gs.fit(xtrain_sc, y_train)"
      ],
      "metadata": {
        "colab": {
          "base_uri": "https://localhost:8080/",
          "height": 117
        },
        "id": "-nZoBgHLbOlT",
        "outputId": "39001c1b-566e-4dba-99ea-11eb70ba0df1"
      },
      "execution_count": null,
      "outputs": [
        {
          "output_type": "execute_result",
          "data": {
            "text/plain": [
              "GridSearchCV(estimator=Perceptron(),\n",
              "             param_grid=[{'penalty': ['l1', 'l2', 'elasticnet']},\n",
              "                         {'alpha': [0.001, 0.01, 0.1, 1]},\n",
              "                         {'eta0': [0.001, 0.01, 0.2, 0.5, 0.8]}])"
            ],
            "text/html": [
              "<style>#sk-container-id-2 {color: black;background-color: white;}#sk-container-id-2 pre{padding: 0;}#sk-container-id-2 div.sk-toggleable {background-color: white;}#sk-container-id-2 label.sk-toggleable__label {cursor: pointer;display: block;width: 100%;margin-bottom: 0;padding: 0.3em;box-sizing: border-box;text-align: center;}#sk-container-id-2 label.sk-toggleable__label-arrow:before {content: \"▸\";float: left;margin-right: 0.25em;color: #696969;}#sk-container-id-2 label.sk-toggleable__label-arrow:hover:before {color: black;}#sk-container-id-2 div.sk-estimator:hover label.sk-toggleable__label-arrow:before {color: black;}#sk-container-id-2 div.sk-toggleable__content {max-height: 0;max-width: 0;overflow: hidden;text-align: left;background-color: #f0f8ff;}#sk-container-id-2 div.sk-toggleable__content pre {margin: 0.2em;color: black;border-radius: 0.25em;background-color: #f0f8ff;}#sk-container-id-2 input.sk-toggleable__control:checked~div.sk-toggleable__content {max-height: 200px;max-width: 100%;overflow: auto;}#sk-container-id-2 input.sk-toggleable__control:checked~label.sk-toggleable__label-arrow:before {content: \"▾\";}#sk-container-id-2 div.sk-estimator input.sk-toggleable__control:checked~label.sk-toggleable__label {background-color: #d4ebff;}#sk-container-id-2 div.sk-label input.sk-toggleable__control:checked~label.sk-toggleable__label {background-color: #d4ebff;}#sk-container-id-2 input.sk-hidden--visually {border: 0;clip: rect(1px 1px 1px 1px);clip: rect(1px, 1px, 1px, 1px);height: 1px;margin: -1px;overflow: hidden;padding: 0;position: absolute;width: 1px;}#sk-container-id-2 div.sk-estimator {font-family: monospace;background-color: #f0f8ff;border: 1px dotted black;border-radius: 0.25em;box-sizing: border-box;margin-bottom: 0.5em;}#sk-container-id-2 div.sk-estimator:hover {background-color: #d4ebff;}#sk-container-id-2 div.sk-parallel-item::after {content: \"\";width: 100%;border-bottom: 1px solid gray;flex-grow: 1;}#sk-container-id-2 div.sk-label:hover label.sk-toggleable__label {background-color: #d4ebff;}#sk-container-id-2 div.sk-serial::before {content: \"\";position: absolute;border-left: 1px solid gray;box-sizing: border-box;top: 0;bottom: 0;left: 50%;z-index: 0;}#sk-container-id-2 div.sk-serial {display: flex;flex-direction: column;align-items: center;background-color: white;padding-right: 0.2em;padding-left: 0.2em;position: relative;}#sk-container-id-2 div.sk-item {position: relative;z-index: 1;}#sk-container-id-2 div.sk-parallel {display: flex;align-items: stretch;justify-content: center;background-color: white;position: relative;}#sk-container-id-2 div.sk-item::before, #sk-container-id-2 div.sk-parallel-item::before {content: \"\";position: absolute;border-left: 1px solid gray;box-sizing: border-box;top: 0;bottom: 0;left: 50%;z-index: -1;}#sk-container-id-2 div.sk-parallel-item {display: flex;flex-direction: column;z-index: 1;position: relative;background-color: white;}#sk-container-id-2 div.sk-parallel-item:first-child::after {align-self: flex-end;width: 50%;}#sk-container-id-2 div.sk-parallel-item:last-child::after {align-self: flex-start;width: 50%;}#sk-container-id-2 div.sk-parallel-item:only-child::after {width: 0;}#sk-container-id-2 div.sk-dashed-wrapped {border: 1px dashed gray;margin: 0 0.4em 0.5em 0.4em;box-sizing: border-box;padding-bottom: 0.4em;background-color: white;}#sk-container-id-2 div.sk-label label {font-family: monospace;font-weight: bold;display: inline-block;line-height: 1.2em;}#sk-container-id-2 div.sk-label-container {text-align: center;}#sk-container-id-2 div.sk-container {/* jupyter's `normalize.less` sets `[hidden] { display: none; }` but bootstrap.min.css set `[hidden] { display: none !important; }` so we also need the `!important` here to be able to override the default hidden behavior on the sphinx rendered scikit-learn.org. See: https://github.com/scikit-learn/scikit-learn/issues/21755 */display: inline-block !important;position: relative;}#sk-container-id-2 div.sk-text-repr-fallback {display: none;}</style><div id=\"sk-container-id-2\" class=\"sk-top-container\"><div class=\"sk-text-repr-fallback\"><pre>GridSearchCV(estimator=Perceptron(),\n",
              "             param_grid=[{&#x27;penalty&#x27;: [&#x27;l1&#x27;, &#x27;l2&#x27;, &#x27;elasticnet&#x27;]},\n",
              "                         {&#x27;alpha&#x27;: [0.001, 0.01, 0.1, 1]},\n",
              "                         {&#x27;eta0&#x27;: [0.001, 0.01, 0.2, 0.5, 0.8]}])</pre><b>In a Jupyter environment, please rerun this cell to show the HTML representation or trust the notebook. <br />On GitHub, the HTML representation is unable to render, please try loading this page with nbviewer.org.</b></div><div class=\"sk-container\" hidden><div class=\"sk-item sk-dashed-wrapped\"><div class=\"sk-label-container\"><div class=\"sk-label sk-toggleable\"><input class=\"sk-toggleable__control sk-hidden--visually\" id=\"sk-estimator-id-2\" type=\"checkbox\" ><label for=\"sk-estimator-id-2\" class=\"sk-toggleable__label sk-toggleable__label-arrow\">GridSearchCV</label><div class=\"sk-toggleable__content\"><pre>GridSearchCV(estimator=Perceptron(),\n",
              "             param_grid=[{&#x27;penalty&#x27;: [&#x27;l1&#x27;, &#x27;l2&#x27;, &#x27;elasticnet&#x27;]},\n",
              "                         {&#x27;alpha&#x27;: [0.001, 0.01, 0.1, 1]},\n",
              "                         {&#x27;eta0&#x27;: [0.001, 0.01, 0.2, 0.5, 0.8]}])</pre></div></div></div><div class=\"sk-parallel\"><div class=\"sk-parallel-item\"><div class=\"sk-item\"><div class=\"sk-label-container\"><div class=\"sk-label sk-toggleable\"><input class=\"sk-toggleable__control sk-hidden--visually\" id=\"sk-estimator-id-3\" type=\"checkbox\" ><label for=\"sk-estimator-id-3\" class=\"sk-toggleable__label sk-toggleable__label-arrow\">estimator: Perceptron</label><div class=\"sk-toggleable__content\"><pre>Perceptron()</pre></div></div></div><div class=\"sk-serial\"><div class=\"sk-item\"><div class=\"sk-estimator sk-toggleable\"><input class=\"sk-toggleable__control sk-hidden--visually\" id=\"sk-estimator-id-4\" type=\"checkbox\" ><label for=\"sk-estimator-id-4\" class=\"sk-toggleable__label sk-toggleable__label-arrow\">Perceptron</label><div class=\"sk-toggleable__content\"><pre>Perceptron()</pre></div></div></div></div></div></div></div></div></div></div>"
            ]
          },
          "metadata": {},
          "execution_count": 26
        }
      ]
    },
    {
      "cell_type": "code",
      "source": [
        "gs.best_score_"
      ],
      "metadata": {
        "colab": {
          "base_uri": "https://localhost:8080/"
        },
        "id": "G3rqmYA6bQZU",
        "outputId": "4d454042-5f64-41c7-faa0-04da813d5728"
      },
      "execution_count": null,
      "outputs": [
        {
          "output_type": "execute_result",
          "data": {
            "text/plain": [
              "0.9953846153846154"
            ]
          },
          "metadata": {},
          "execution_count": 27
        }
      ]
    },
    {
      "cell_type": "code",
      "source": [
        "gs.best_params_"
      ],
      "metadata": {
        "colab": {
          "base_uri": "https://localhost:8080/"
        },
        "id": "pt-s9OzqbSRL",
        "outputId": "cbdc38d5-0b79-4dbf-d303-fc52313cf415"
      },
      "execution_count": null,
      "outputs": [
        {
          "output_type": "execute_result",
          "data": {
            "text/plain": [
              "{'penalty': 'elasticnet'}"
            ]
          },
          "metadata": {},
          "execution_count": 28
        }
      ]
    },
    {
      "cell_type": "code",
      "source": [
        "from sklearn.neighbors import KNeighborsClassifier\n",
        "knn=KNeighborsClassifier(n_neighbors=5)\n",
        "knn.fit(xtrain_sc, y_train)\n",
        "knn_train_results=knn.predict(xtrain_sc)\n",
        "knn_test_results=knn.predict(xtest_sc)\n",
        "print(\"Training Accuracy:\", accuracy_score(knn_train_results, y_train))\n",
        "print(\"Testing Accuracy:\", accuracy_score(knn_test_results, y_test))\n",
        "print(\"Confusion Matrix:\\n\", confusion_matrix(y_test, knn_test_results))\n",
        "print(\"Precision:\", precision_score(y_test, knn_test_results))\n",
        "print(\"Recall:\", recall_score(y_test, knn_test_results))\n",
        "print(\"F1 Score:\", f1_score(y_test, knn_test_results))\n"
      ],
      "metadata": {
        "colab": {
          "base_uri": "https://localhost:8080/"
        },
        "id": "gUG9KGalHK0F",
        "outputId": "15f4ab96-7321-4610-b857-b50a6632bb7e"
      },
      "execution_count": null,
      "outputs": [
        {
          "output_type": "stream",
          "name": "stdout",
          "text": [
            "Training Accuracy: 0.9736842105263158\n",
            "Testing Accuracy: 0.9583333333333334\n",
            "Confusion Matrix:\n",
            " [[ 90   1]\n",
            " [  8 117]]\n",
            "Precision: 0.9915254237288136\n",
            "Recall: 0.936\n",
            "F1 Score: 0.962962962962963\n"
          ]
        }
      ]
    },
    {
      "cell_type": "code",
      "source": [
        "import matplotlib.pyplot as plt\n",
        "from sklearn.metrics import accuracy_score, confusion_matrix, precision_score, recall_score, f1_score\n",
        "\n",
        "accuracy_train_knn = accuracy_score(y_train, knn_train_results)\n",
        "accuracy_test_knn = accuracy_score(y_test, knn_test_results)\n",
        "precision_knn = precision_score(y_test, knn_test_results)\n",
        "recall_knn = recall_score(y_test, knn_test_results)\n",
        "f1_knn = f1_score(y_test, knn_test_results)\n",
        "\n",
        "# Create lists for the metrics and their names\n",
        "metrics_knn = [accuracy_train_knn, accuracy_test_knn, precision_knn, recall_knn, f1_knn]\n",
        "metric_names_knn = ['Training Accuracy', 'Testing Accuracy', 'Precision', 'Recall', 'F1 Score']\n",
        "\n",
        "# Plotting the bar graph for KNN\n",
        "plt.figure(figsize=(10, 6))\n",
        "plt.bar(metric_names_knn, metrics_knn, color=['grey', 'green', 'orange', 'red', 'purple'])\n",
        "plt.title('Performance Metrics of K-Nearest Neighbors (KNN) Classifier')\n",
        "plt.xlabel('Metrics')\n",
        "plt.ylabel('Score')\n",
        "plt.xticks(rotation=45)\n",
        "plt.show()\n"
      ],
      "metadata": {
        "colab": {
          "base_uri": "https://localhost:8080/",
          "height": 647
        },
        "id": "o8eJ7dy-Sj_w",
        "outputId": "ef9eb914-4905-4aee-9327-62ccdfdf9ffe"
      },
      "execution_count": null,
      "outputs": [
        {
          "output_type": "display_data",
          "data": {
            "text/plain": [
              "<Figure size 1000x600 with 1 Axes>"
            ],
            "image/png": "[encoded data removed]"
          },
          "metadata": {}
        }
      ]
    },
    {
      "cell_type": "code",
      "source": [
        "from sklearn.tree import DecisionTreeClassifier\n",
        "dt=DecisionTreeClassifier(criterion='gini', max_depth=3, min_samples_leaf=5)\n",
        "dt.fit(xtrain_sc, y_train)\n",
        "dt_train_results=dt.predict(xtrain_sc)\n",
        "dt_test_results=dt.predict(xtest_sc)\n",
        "print(\"Training Accuracy:\", accuracy_score(dt_train_results, y_train))\n",
        "print(\"Testing Accuracy:\", accuracy_score(dt_test_results, y_test))\n",
        "print(\"Confusion Matrix:\\n\", confusion_matrix(y_test, dt_test_results))\n",
        "print(\"Precision:\", precision_score(y_test, dt_test_results))\n",
        "print(\"Recall:\", recall_score(y_test, dt_test_results))\n",
        "print(\"F1 Score:\", f1_score(y_test, dt_test_results))\n"
      ],
      "metadata": {
        "colab": {
          "base_uri": "https://localhost:8080/"
        },
        "id": "D0Wr8ZwAHYDM",
        "outputId": "153c5606-395b-4879-e2af-baafe49085ff"
      },
      "execution_count": null,
      "outputs": [
        {
          "output_type": "stream",
          "name": "stdout",
          "text": [
            "Training Accuracy: 1.0\n",
            "Testing Accuracy: 1.0\n",
            "Confusion Matrix:\n",
            " [[ 91   0]\n",
            " [  0 125]]\n",
            "Precision: 1.0\n",
            "Recall: 1.0\n",
            "F1 Score: 1.0\n"
          ]
        }
      ]
    },
    {
      "cell_type": "code",
      "source": [
        "import matplotlib.pyplot as plt\n",
        "\n",
        "# Metrics for Decision Tree\n",
        "dt_metrics = [accuracy_train, accuracy_test, precision, recall, f1]\n",
        "\n",
        "# Metrics for KNN\n",
        "knn_metrics = [accuracy_train_knn, accuracy_test_knn, precision_knn, recall_knn, f1_knn]\n",
        "\n",
        "# Metric names\n",
        "metric_names = ['Training Accuracy', 'Testing Accuracy', 'Precision', 'Recall', 'F1 Score']\n",
        "\n",
        "# Scatter plot\n",
        "plt.figure(figsize=(10, 6))\n",
        "plt.scatter(metric_names, dt_metrics, label='Decision Tree', color='blue')\n",
        "plt.scatter(metric_names, knn_metrics, label='KNN', color='red')\n",
        "plt.title('Performance Metrics Comparison')\n",
        "plt.xlabel('Metrics')\n",
        "plt.ylabel('Score')\n",
        "plt.xticks(rotation=45)\n",
        "plt.legend()\n",
        "plt.grid(True)\n",
        "plt.show()\n"
      ],
      "metadata": {
        "colab": {
          "base_uri": "https://localhost:8080/",
          "height": 647
        },
        "id": "oi60HvtASWXx",
        "outputId": "419a3f35-7e16-4e7c-a358-87bfdfae3475"
      },
      "execution_count": null,
      "outputs": [
        {
          "output_type": "display_data",
          "data": {
            "text/plain": [
              "<Figure size 1000x600 with 1 Axes>"
            ],
            "image/png": "[encoded data removed]"
          },
          "metadata": {}
        }
      ]
    },
    {
      "cell_type": "code",
      "source": [
        "from sklearn.linear_model import LogisticRegression\n",
        "lr = LogisticRegression()\n",
        "lr.fit(xtrain_sc, y_train)\n",
        "lr_train_results = lr.predict(xtrain_sc)\n",
        "lr_test_results = lr.predict(xtest_sc)\n",
        "print(\"Training Accuracy:\", accuracy_score(lr_train_results, y_train))\n",
        "print(\"Testing Accuracy:\", accuracy_score(lr_test_results, y_test))\n"
      ],
      "metadata": {
        "colab": {
          "base_uri": "https://localhost:8080/"
        },
        "id": "5KLoTh46Ivnj",
        "outputId": "ebaf6cb0-8dbe-4070-9864-2444cf800e5f"
      },
      "execution_count": null,
      "outputs": [
        {
          "output_type": "stream",
          "name": "stdout",
          "text": [
            "Training Accuracy: 1.0\n",
            "Testing Accuracy: 1.0\n"
          ]
        }
      ]
    },
    {
      "cell_type": "code",
      "source": [
        "import numpy as np\n",
        "import matplotlib.pyplot as plt\n",
        "from sklearn.tree import DecisionTreeClassifier\n",
        "from sklearn.metrics import accuracy_score\n",
        "\n",
        "# Lists to store training and testing accuracies\n",
        "train_accuracies = []\n",
        "test_accuracies = []\n",
        "\n",
        "# Try different values of max_depth\n",
        "depths = range(1, 11)\n",
        "\n",
        "for depth in depths:\n",
        "    # Train Decision Tree Classifier\n",
        "    dt = DecisionTreeClassifier(criterion='gini', max_depth=depth, min_samples_leaf=5)\n",
        "    dt.fit(xtrain_sc, y_train)\n",
        "\n",
        "    # Predictions\n",
        "    dt_train_results = dt.predict(xtrain_sc)\n",
        "    dt_test_results = dt.predict(xtest_sc)\n",
        "\n",
        "    # Accuracy scores\n",
        "    train_accuracy = accuracy_score(dt_train_results, y_train)\n",
        "    test_accuracy = accuracy_score(dt_test_results, y_test)\n",
        "\n",
        "    # Append accuracies to the lists\n",
        "    train_accuracies.append(train_accuracy)\n",
        "    test_accuracies.append(test_accuracy)\n",
        "\n",
        "# Plotting the line graph\n",
        "plt.figure(figsize=(10, 6))\n",
        "plt.plot(depths, train_accuracies, label='Training Accuracy', marker='o')\n",
        "plt.plot(depths, test_accuracies, label='Testing Accuracy', marker='o')\n",
        "plt.title('Decision Tree Classifier Performance')\n",
        "plt.xlabel('Max Depth')\n",
        "plt.ylabel('Accuracy')\n",
        "plt.xticks(depths)\n",
        "plt.legend()\n",
        "plt.grid(True)\n",
        "plt.show()\n"
      ],
      "metadata": {
        "colab": {
          "base_uri": "https://localhost:8080/",
          "height": 564
        },
        "id": "4ZQmmX0oN9Uk",
        "outputId": "c2b718ea-6df5-4065-f297-cd1420b7c699"
      },
      "execution_count": null,
      "outputs": [
        {
          "output_type": "display_data",
          "data": {
            "text/plain": [
              "<Figure size 1000x600 with 1 Axes>"
            ],
            "image/png": "[encoded data removed]"
          },
          "metadata": {}
        }
      ]
    },
    {
      "cell_type": "code",
      "source": [
        "import numpy as np\n",
        "import matplotlib.pyplot as plt\n",
        "from sklearn.neighbors import KNeighborsClassifier\n",
        "from sklearn.metrics import accuracy_score\n",
        "\n",
        "# Lists to store training and testing accuracies\n",
        "train_accuracies = []\n",
        "test_accuracies = []\n",
        "\n",
        "# Try different values of n_neighbors\n",
        "neighbors = range(1, 21)\n",
        "\n",
        "for n in neighbors:\n",
        "    # Train KNN Classifier\n",
        "    knn = KNeighborsClassifier(n_neighbors=n)\n",
        "    knn.fit(xtrain_sc, y_train)\n",
        "\n",
        "    # Predictions\n",
        "    knn_train_results = knn.predict(xtrain_sc)\n",
        "    knn_test_results = knn.predict(xtest_sc)\n",
        "\n",
        "    # Accuracy scores\n",
        "    train_accuracy = accuracy_score(knn_train_results, y_train)\n",
        "    test_accuracy = accuracy_score(knn_test_results, y_test)\n",
        "\n",
        "    # Append accuracies to the lists\n",
        "    train_accuracies.append(train_accuracy)\n",
        "    test_accuracies.append(test_accuracy)\n",
        "\n",
        "# Plotting the line graph\n",
        "plt.figure(figsize=(10, 6))\n",
        "plt.plot(neighbors, train_accuracies, label='Training Accuracy', marker='o')\n",
        "plt.plot(neighbors, test_accuracies, label='Testing Accuracy', marker='o')\n",
        "plt.title('K-Nearest Neighbors (KNN) Classifier Performance')\n",
        "plt.xlabel('Number of Neighbors')\n",
        "plt.ylabel('Accuracy')\n",
        "plt.xticks(neighbors)\n",
        "plt.legend()\n",
        "plt.grid(True)\n",
        "plt.show()\n"
      ],
      "metadata": {
        "colab": {
          "base_uri": "https://localhost:8080/",
          "height": 564
        },
        "id": "KHOwdmM6TXWb",
        "outputId": "b621637a-e307-411c-e6cf-9c802ef6e26b"
      },
      "execution_count": null,
      "outputs": [
        {
          "output_type": "display_data",
          "data": {
            "text/plain": [
              "<Figure size 1000x600 with 1 Axes>"
            ],
            "image/png": "[encoded data removed]"
          },
          "metadata": {}
        }
      ]
    },
    {
      "cell_type": "code",
      "source": [
        "import numpy as np\n",
        "import matplotlib.pyplot as plt\n",
        "from sklearn.linear_model import LogisticRegression\n",
        "from sklearn.metrics import accuracy_score\n",
        "\n",
        "# Lists to store training and testing accuracies\n",
        "train_accuracies = []\n",
        "test_accuracies = []\n",
        "\n",
        "# Try different values of regularization strength (C parameter)\n",
        "regularization_strengths = np.logspace(-3, 3, 7)\n",
        "\n",
        "for c in regularization_strengths:\n",
        "    # Train Logistic Regression Classifier\n",
        "    lr = LogisticRegression(C=c)\n",
        "    lr.fit(xtrain_sc, y_train)\n",
        "\n",
        "    # Predictions\n",
        "    lr_train_results = lr.predict(xtrain_sc)\n",
        "    lr_test_results = lr.predict(xtest_sc)\n",
        "\n",
        "    # Accuracy scores\n",
        "    train_accuracy = accuracy_score(lr_train_results, y_train)\n",
        "    test_accuracy = accuracy_score(lr_test_results, y_test)\n",
        "\n",
        "    # Append accuracies to the lists\n",
        "    train_accuracies.append(train_accuracy)\n",
        "    test_accuracies.append(test_accuracy)\n",
        "\n",
        "# Plotting the line graph\n",
        "plt.figure(figsize=(10, 6))\n",
        "plt.plot(regularization_strengths, train_accuracies, label='Training Accuracy', marker='o')\n",
        "plt.plot(regularization_strengths, test_accuracies, label='Testing Accuracy', marker='o')\n",
        "plt.title('Logistic Regression Classifier Performance')\n",
        "plt.xlabel('Regularization Strength (C)')\n",
        "plt.ylabel('Accuracy')\n",
        "plt.xscale('log')\n",
        "plt.legend()\n",
        "plt.grid(True)\n",
        "plt.show()\n"
      ],
      "metadata": {
        "colab": {
          "base_uri": "https://localhost:8080/",
          "height": 569
        },
        "id": "TixZWow7UuZp",
        "outputId": "5d5f5784-5a52-4f1c-9225-e809b2f0c1c7"
      },
      "execution_count": null,
      "outputs": [
        {
          "output_type": "display_data",
          "data": {
            "text/plain": [
              "<Figure size 1000x600 with 1 Axes>"
            ],
            "image/png": "[encoded data removed]"
          },
          "metadata": {}
        }
      ]
    },
    {
      "cell_type": "code",
      "source": [
        "import numpy as np\n",
        "import matplotlib.pyplot as plt\n",
        "from sklearn.linear_model import Perceptron\n",
        "from sklearn.metrics import accuracy_score\n",
        "\n",
        "# Lists to store training and testing accuracies\n",
        "train_accuracies = []\n",
        "test_accuracies = []\n",
        "\n",
        "# Try different values of max_iter\n",
        "max_iters = range(1, 100, 5)\n",
        "\n",
        "for max_iter in max_iters:\n",
        "    # Train Perceptron Classifier\n",
        "    p = Perceptron(max_iter=max_iter)\n",
        "    p.fit(x_train, y_train)\n",
        "\n",
        "    # Predictions\n",
        "    p_train_results = p.predict(xtrain_sc)\n",
        "    p_test_results = p.predict(xtest_sc)\n",
        "\n",
        "    # Accuracy scores\n",
        "    train_accuracy = accuracy_score(p_train_results, y_train)\n",
        "    test_accuracy = accuracy_score(p_test_results, y_test)\n",
        "\n",
        "    # Append accuracies to the lists\n",
        "    train_accuracies.append(train_accuracy)\n",
        "    test_accuracies.append(test_accuracy)\n",
        "\n",
        "# Plotting the line graph\n",
        "plt.figure(figsize=(10, 6))\n",
        "plt.plot(max_iters, train_accuracies, label='Training Accuracy', marker='o')\n",
        "plt.plot(max_iters, test_accuracies, label='Testing Accuracy', marker='o')\n",
        "plt.title('Perceptron Classifier Performance')\n",
        "plt.xlabel('Max Iterations')\n",
        "plt.ylabel('Accuracy')\n",
        "plt.legend()\n",
        "plt.grid(True)\n",
        "plt.show()\n"
      ],
      "metadata": {
        "colab": {
          "base_uri": "https://localhost:8080/",
          "height": 1000
        },
        "id": "EkB1S2XPU-dg",
        "outputId": "30d20bd0-0051-4b73-b6cb-267aee9c1ab2"
      },
      "execution_count": null,
      "outputs": [
        {
          "output_type": "stream",
          "name": "stderr",
          "text": [
            "/usr/local/lib/python3.10/dist-packages/sklearn/linear_model/_stochastic_gradient.py:702: ConvergenceWarning: Maximum number of iteration reached before convergence. Consider increasing max_iter to improve the fit.\n",
            "  warnings.warn(\n",
            "/usr/local/lib/python3.10/dist-packages/sklearn/base.py:439: UserWarning: X does not have valid feature names, but Perceptron was fitted with feature names\n",
            "  warnings.warn(\n",
            "/usr/local/lib/python3.10/dist-packages/sklearn/base.py:439: UserWarning: X does not have valid feature names, but Perceptron was fitted with feature names\n",
            "  warnings.warn(\n",
            "/usr/local/lib/python3.10/dist-packages/sklearn/linear_model/_stochastic_gradient.py:702: ConvergenceWarning: Maximum number of iteration reached before convergence. Consider increasing max_iter to improve the fit.\n",
            "  warnings.warn(\n",
            "/usr/local/lib/python3.10/dist-packages/sklearn/base.py:439: UserWarning: X does not have valid feature names, but Perceptron was fitted with feature names\n",
            "  warnings.warn(\n",
            "/usr/local/lib/python3.10/dist-packages/sklearn/base.py:439: UserWarning: X does not have valid feature names, but Perceptron was fitted with feature names\n",
            "  warnings.warn(\n",
            "/usr/local/lib/python3.10/dist-packages/sklearn/base.py:439: UserWarning: X does not have valid feature names, but Perceptron was fitted with feature names\n",
            "  warnings.warn(\n",
            "/usr/local/lib/python3.10/dist-packages/sklearn/base.py:439: UserWarning: X does not have valid feature names, but Perceptron was fitted with feature names\n",
            "  warnings.warn(\n",
            "/usr/local/lib/python3.10/dist-packages/sklearn/base.py:439: UserWarning: X does not have valid feature names, but Perceptron was fitted with feature names\n",
            "  warnings.warn(\n",
            "/usr/local/lib/python3.10/dist-packages/sklearn/base.py:439: UserWarning: X does not have valid feature names, but Perceptron was fitted with feature names\n",
            "  warnings.warn(\n",
            "/usr/local/lib/python3.10/dist-packages/sklearn/base.py:439: UserWarning: X does not have valid feature names, but Perceptron was fitted with feature names\n",
            "  warnings.warn(\n",
            "/usr/local/lib/python3.10/dist-packages/sklearn/base.py:439: UserWarning: X does not have valid feature names, but Perceptron was fitted with feature names\n",
            "  warnings.warn(\n",
            "/usr/local/lib/python3.10/dist-packages/sklearn/base.py:439: UserWarning: X does not have valid feature names, but Perceptron was fitted with feature names\n",
            "  warnings.warn(\n",
            "/usr/local/lib/python3.10/dist-packages/sklearn/base.py:439: UserWarning: X does not have valid feature names, but Perceptron was fitted with feature names\n",
            "  warnings.warn(\n",
            "/usr/local/lib/python3.10/dist-packages/sklearn/base.py:439: UserWarning: X does not have valid feature names, but Perceptron was fitted with feature names\n",
            "  warnings.warn(\n",
            "/usr/local/lib/python3.10/dist-packages/sklearn/base.py:439: UserWarning: X does not have valid feature names, but Perceptron was fitted with feature names\n",
            "  warnings.warn(\n",
            "/usr/local/lib/python3.10/dist-packages/sklearn/base.py:439: UserWarning: X does not have valid feature names, but Perceptron was fitted with feature names\n",
            "  warnings.warn(\n",
            "/usr/local/lib/python3.10/dist-packages/sklearn/base.py:439: UserWarning: X does not have valid feature names, but Perceptron was fitted with feature names\n",
            "  warnings.warn(\n",
            "/usr/local/lib/python3.10/dist-packages/sklearn/base.py:439: UserWarning: X does not have valid feature names, but Perceptron was fitted with feature names\n",
            "  warnings.warn(\n",
            "/usr/local/lib/python3.10/dist-packages/sklearn/base.py:439: UserWarning: X does not have valid feature names, but Perceptron was fitted with feature names\n",
            "  warnings.warn(\n",
            "/usr/local/lib/python3.10/dist-packages/sklearn/base.py:439: UserWarning: X does not have valid feature names, but Perceptron was fitted with feature names\n",
            "  warnings.warn(\n",
            "/usr/local/lib/python3.10/dist-packages/sklearn/base.py:439: UserWarning: X does not have valid feature names, but Perceptron was fitted with feature names\n",
            "  warnings.warn(\n",
            "/usr/local/lib/python3.10/dist-packages/sklearn/base.py:439: UserWarning: X does not have valid feature names, but Perceptron was fitted with feature names\n",
            "  warnings.warn(\n",
            "/usr/local/lib/python3.10/dist-packages/sklearn/base.py:439: UserWarning: X does not have valid feature names, but Perceptron was fitted with feature names\n",
            "  warnings.warn(\n",
            "/usr/local/lib/python3.10/dist-packages/sklearn/base.py:439: UserWarning: X does not have valid feature names, but Perceptron was fitted with feature names\n",
            "  warnings.warn(\n",
            "/usr/local/lib/python3.10/dist-packages/sklearn/base.py:439: UserWarning: X does not have valid feature names, but Perceptron was fitted with feature names\n",
            "  warnings.warn(\n",
            "/usr/local/lib/python3.10/dist-packages/sklearn/base.py:439: UserWarning: X does not have valid feature names, but Perceptron was fitted with feature names\n",
            "  warnings.warn(\n",
            "/usr/local/lib/python3.10/dist-packages/sklearn/base.py:439: UserWarning: X does not have valid feature names, but Perceptron was fitted with feature names\n",
            "  warnings.warn(\n",
            "/usr/local/lib/python3.10/dist-packages/sklearn/base.py:439: UserWarning: X does not have valid feature names, but Perceptron was fitted with feature names\n",
            "  warnings.warn(\n",
            "/usr/local/lib/python3.10/dist-packages/sklearn/base.py:439: UserWarning: X does not have valid feature names, but Perceptron was fitted with feature names\n",
            "  warnings.warn(\n",
            "/usr/local/lib/python3.10/dist-packages/sklearn/base.py:439: UserWarning: X does not have valid feature names, but Perceptron was fitted with feature names\n",
            "  warnings.warn(\n",
            "/usr/local/lib/python3.10/dist-packages/sklearn/base.py:439: UserWarning: X does not have valid feature names, but Perceptron was fitted with feature names\n",
            "  warnings.warn(\n",
            "/usr/local/lib/python3.10/dist-packages/sklearn/base.py:439: UserWarning: X does not have valid feature names, but Perceptron was fitted with feature names\n",
            "  warnings.warn(\n",
            "/usr/local/lib/python3.10/dist-packages/sklearn/base.py:439: UserWarning: X does not have valid feature names, but Perceptron was fitted with feature names\n",
            "  warnings.warn(\n",
            "/usr/local/lib/python3.10/dist-packages/sklearn/base.py:439: UserWarning: X does not have valid feature names, but Perceptron was fitted with feature names\n",
            "  warnings.warn(\n",
            "/usr/local/lib/python3.10/dist-packages/sklearn/base.py:439: UserWarning: X does not have valid feature names, but Perceptron was fitted with feature names\n",
            "  warnings.warn(\n",
            "/usr/local/lib/python3.10/dist-packages/sklearn/base.py:439: UserWarning: X does not have valid feature names, but Perceptron was fitted with feature names\n",
            "  warnings.warn(\n",
            "/usr/local/lib/python3.10/dist-packages/sklearn/base.py:439: UserWarning: X does not have valid feature names, but Perceptron was fitted with feature names\n",
            "  warnings.warn(\n",
            "/usr/local/lib/python3.10/dist-packages/sklearn/base.py:439: UserWarning: X does not have valid feature names, but Perceptron was fitted with feature names\n",
            "  warnings.warn(\n",
            "/usr/local/lib/python3.10/dist-packages/sklearn/base.py:439: UserWarning: X does not have valid feature names, but Perceptron was fitted with feature names\n",
            "  warnings.warn(\n",
            "/usr/local/lib/python3.10/dist-packages/sklearn/base.py:439: UserWarning: X does not have valid feature names, but Perceptron was fitted with feature names\n",
            "  warnings.warn(\n",
            "/usr/local/lib/python3.10/dist-packages/sklearn/base.py:439: UserWarning: X does not have valid feature names, but Perceptron was fitted with feature names\n",
            "  warnings.warn(\n"
          ]
        },
        {
          "output_type": "display_data",
          "data": {
            "text/plain": [
              "<Figure size 1000x600 with 1 Axes>"
            ],
            "image/png": "[encoded data removed]"
          },
          "metadata": {}
        }
      ]
    },
    {
      "cell_type": "code",
      "source": [
        "import numpy as np\n",
        "import matplotlib.pyplot as plt\n",
        "from sklearn.model_selection import GridSearchCV\n",
        "from sklearn.linear_model import Perceptron\n",
        "\n",
        "# Define the parameter grid\n",
        "params = [{'penalty': ['l1', 'l2', 'elasticnet']}, {'alpha': [0.001, 0.01, 0.1, 1]}, {'eta0': [0.001, 0.01, 0.2, 0.5, 0.8]}]\n",
        "\n",
        "# Create a GridSearchCV object\n",
        "gs = GridSearchCV(estimator=Perceptron(), param_grid=params)\n",
        "\n",
        "# Perform the grid search\n",
        "gs.fit(xtrain_sc, y_train)\n",
        "\n",
        "# Extract best score and best parameters\n",
        "best_score = gs.best_score_\n",
        "best_params = gs.best_params_\n",
        "\n",
        "print(\"Best Score:\", best_score)\n",
        "print(\"Best Parameters:\", best_params)\n",
        "\n",
        "# Extract the mean cross-validated scores\n",
        "mean_scores = gs.cv_results_['mean_test_score']\n",
        "\n",
        "# Extract hyperparameters\n",
        "penalties = gs.cv_results_['param_penalty']\n",
        "alphas = gs.cv_results_['param_alpha']\n",
        "eta0s = gs.cv_results_['param_eta0']\n",
        "\n",
        "# Plotting the scatter graph for each combination of hyperparameters\n",
        "plt.figure(figsize=(10, 6))\n",
        "plt.scatter(alphas, mean_scores, label='Alpha', marker='o', color='blue')\n",
        "plt.scatter(eta0s, mean_scores, label='Eta0', marker='*', color='red')\n",
        "plt.xlabel('Hyperparameter Value')\n",
        "plt.ylabel('Mean Cross-Validated Score')\n",
        "plt.title('Perceptron Classifier Performance')\n",
        "plt.legend()\n",
        "plt.grid(True)\n",
        "plt.show()\n"
      ],
      "metadata": {
        "colab": {
          "base_uri": "https://localhost:8080/",
          "height": 599
        },
        "id": "Qtyzq4EkVPZU",
        "outputId": "94c310a1-8292-460a-a97c-a586f6b8b7bd"
      },
      "execution_count": null,
      "outputs": [
        {
          "output_type": "stream",
          "name": "stdout",
          "text": [
            "Best Score: 0.9953846153846154\n",
            "Best Parameters: {'penalty': 'elasticnet'}\n"
          ]
        },
        {
          "output_type": "display_data",
          "data": {
            "text/plain": [
              "<Figure size 1000x600 with 1 Axes>"
            ],
            "image/png": "[encoded data removed]"
          },
          "metadata": {}
        }
      ]
    },
    {
      "cell_type": "code",
      "source": [],
      "metadata": {
        "id": "uylMfMOLXVAa"
      },
      "execution_count": null,
      "outputs": []
    }
  ]
}